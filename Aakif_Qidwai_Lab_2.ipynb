{
  "nbformat": 4,
  "nbformat_minor": 0,
  "metadata": {
    "colab": {
      "provenance": [],
      "toc_visible": true,
      "authorship_tag": "ABX9TyOdtcTdl233FOG20MFcJ7BB",
      "include_colab_link": true
    },
    "kernelspec": {
      "name": "python3",
      "display_name": "Python 3"
    },
    "language_info": {
      "name": "python"
    }
  },
  "cells": [
    {
      "cell_type": "markdown",
      "metadata": {
        "id": "view-in-github",
        "colab_type": "text"
      },
      "source": [
        "<a href=\"https://colab.research.google.com/github/aaq2000/PythonAI/blob/main/Aakif_Qidwai_Lab_2.ipynb\" target=\"_parent\"><img src=\"https://colab.research.google.com/assets/colab-badge.svg\" alt=\"Open In Colab\"/></a>"
      ]
    },
    {
      "cell_type": "markdown",
      "source": [
        "**Lab #2**\n",
        "\n",
        "**First and Last Name: Aakif Qidwai**\n",
        "\n",
        "**Student ID: 500916258**"
      ],
      "metadata": {
        "id": "Gnnb6o7EvSQU"
      }
    },
    {
      "cell_type": "code",
      "source": [
        "import numpy as np\n",
        "import pandas as pd\n",
        "import matplotlib.pyplot as plt\n",
        "import math\n",
        "import random\n",
        "from sklearn import preprocessing\n",
        "from sklearn.linear_model import LogisticRegression\n",
        "\n",
        "\n",
        "df = pd.read_csv('https://raw.githubusercontent.com/tofighi/MachineLearning/master/datasets/heart.csv')"
      ],
      "metadata": {
        "id": "qHTTh4nTvVx3"
      },
      "execution_count": null,
      "outputs": []
    },
    {
      "cell_type": "markdown",
      "source": [
        "**EDA #1: Code below implements how much of each class 0 and 1 is present**\n",
        "\n",
        "There are 302 zeroes and 160 ones. Approximately 65% of the dataset are zeroes and 35% is ones.\n",
        "\n"
      ],
      "metadata": {
        "id": "zlxTYQfc74l7"
      }
    },
    {
      "cell_type": "code",
      "source": [
        "df[\"chd\"].value_counts()"
      ],
      "metadata": {
        "id": "iY_zGlkEuZR0",
        "colab": {
          "base_uri": "https://localhost:8080/"
        },
        "outputId": "9fd6f797-fe42-4ae6-c496-91fe5d0e5e4f"
      },
      "execution_count": null,
      "outputs": [
        {
          "output_type": "execute_result",
          "data": {
            "text/plain": [
              "0    302\n",
              "1    160\n",
              "Name: chd, dtype: int64"
            ]
          },
          "metadata": {},
          "execution_count": 95
        }
      ]
    },
    {
      "cell_type": "markdown",
      "source": [
        "**EDA #2: Code below shows how many missing values there are in the dataset**"
      ],
      "metadata": {
        "id": "lsVhufZa-R94"
      }
    },
    {
      "cell_type": "code",
      "source": [
        "df.isnull().sum()\n"
      ],
      "metadata": {
        "colab": {
          "base_uri": "https://localhost:8080/"
        },
        "id": "1ffihPPxk68k",
        "outputId": "24272abc-0202-4cb9-d56d-ad9affe9cc61"
      },
      "execution_count": null,
      "outputs": [
        {
          "output_type": "execute_result",
          "data": {
            "text/plain": [
              "row.names    0\n",
              "sbp          0\n",
              "tobacco      0\n",
              "ldl          0\n",
              "adiposity    0\n",
              "famhist      0\n",
              "typea        0\n",
              "obesity      0\n",
              "alcohol      0\n",
              "age          0\n",
              "chd          0\n",
              "dtype: int64"
            ]
          },
          "metadata": {},
          "execution_count": 96
        }
      ]
    },
    {
      "cell_type": "markdown",
      "source": [
        "**EDA #3: Code below shows how many categorical values there are in the features**\n",
        "\n",
        "As shown by the results, 'famhistory' is the categorical value because its results are not numerical."
      ],
      "metadata": {
        "id": "AFQlsgU3_z6-"
      }
    },
    {
      "cell_type": "code",
      "source": [
        "df.dtypes\n"
      ],
      "metadata": {
        "colab": {
          "base_uri": "https://localhost:8080/"
        },
        "id": "-5WQfq4fmO9n",
        "outputId": "4040101c-8fca-4cbe-c36a-7fcde7418e82"
      },
      "execution_count": null,
      "outputs": [
        {
          "output_type": "execute_result",
          "data": {
            "text/plain": [
              "row.names      int64\n",
              "sbp            int64\n",
              "tobacco      float64\n",
              "ldl          float64\n",
              "adiposity    float64\n",
              "famhist       object\n",
              "typea          int64\n",
              "obesity      float64\n",
              "alcohol      float64\n",
              "age            int64\n",
              "chd            int64\n",
              "dtype: object"
            ]
          },
          "metadata": {},
          "execution_count": 97
        }
      ]
    },
    {
      "cell_type": "markdown",
      "source": [
        "**EDA #4: Code below shows which features have maximum correlation**\n",
        "\n",
        "As the results show, adiposity and obesity have the maximum correlation"
      ],
      "metadata": {
        "id": "bdtGYShKAL2r"
      }
    },
    {
      "cell_type": "code",
      "source": [
        "cor = df.corr()\n",
        "cor"
      ],
      "metadata": {
        "colab": {
          "base_uri": "https://localhost:8080/",
          "height": 363
        },
        "id": "ZQauw70cm_dR",
        "outputId": "bdd53cc2-f87e-41b0-9a0a-1ea9447cebe2"
      },
      "execution_count": null,
      "outputs": [
        {
          "output_type": "execute_result",
          "data": {
            "text/plain": [
              "           row.names       sbp   tobacco       ldl  adiposity     typea  \\\n",
              "row.names   1.000000  0.171583 -0.044813 -0.064014   0.033851 -0.147769   \n",
              "sbp         0.171583  1.000000  0.212247  0.158296   0.356500 -0.057454   \n",
              "tobacco    -0.044813  0.212247  1.000000  0.158905   0.286640 -0.014608   \n",
              "ldl        -0.064014  0.158296  0.158905  1.000000   0.440432  0.044048   \n",
              "adiposity   0.033851  0.356500  0.286640  0.440432   1.000000 -0.043144   \n",
              "typea      -0.147769 -0.057454 -0.014608  0.044048  -0.043144  1.000000   \n",
              "obesity    -0.026758  0.238067  0.124529  0.330506   0.716556  0.074006   \n",
              "alcohol     0.088825  0.140096  0.200813 -0.033403   0.100330  0.039498   \n",
              "age        -0.014064  0.388771  0.450330  0.311799   0.625954 -0.102606   \n",
              "chd        -0.063808  0.192354  0.299718  0.263053   0.254121  0.103156   \n",
              "\n",
              "            obesity   alcohol       age       chd  \n",
              "row.names -0.026758  0.088825 -0.014064 -0.063808  \n",
              "sbp        0.238067  0.140096  0.388771  0.192354  \n",
              "tobacco    0.124529  0.200813  0.450330  0.299718  \n",
              "ldl        0.330506 -0.033403  0.311799  0.263053  \n",
              "adiposity  0.716556  0.100330  0.625954  0.254121  \n",
              "typea      0.074006  0.039498 -0.102606  0.103156  \n",
              "obesity    1.000000  0.051620  0.291777  0.100095  \n",
              "alcohol    0.051620  1.000000  0.101125  0.062531  \n",
              "age        0.291777  0.101125  1.000000  0.372973  \n",
              "chd        0.100095  0.062531  0.372973  1.000000  "
            ],
            "text/html": [
              "\n",
              "  <div id=\"df-93e124d0-7a02-4869-9641-f78c3bd5a02d\">\n",
              "    <div class=\"colab-df-container\">\n",
              "      <div>\n",
              "<style scoped>\n",
              "    .dataframe tbody tr th:only-of-type {\n",
              "        vertical-align: middle;\n",
              "    }\n",
              "\n",
              "    .dataframe tbody tr th {\n",
              "        vertical-align: top;\n",
              "    }\n",
              "\n",
              "    .dataframe thead th {\n",
              "        text-align: right;\n",
              "    }\n",
              "</style>\n",
              "<table border=\"1\" class=\"dataframe\">\n",
              "  <thead>\n",
              "    <tr style=\"text-align: right;\">\n",
              "      <th></th>\n",
              "      <th>row.names</th>\n",
              "      <th>sbp</th>\n",
              "      <th>tobacco</th>\n",
              "      <th>ldl</th>\n",
              "      <th>adiposity</th>\n",
              "      <th>typea</th>\n",
              "      <th>obesity</th>\n",
              "      <th>alcohol</th>\n",
              "      <th>age</th>\n",
              "      <th>chd</th>\n",
              "    </tr>\n",
              "  </thead>\n",
              "  <tbody>\n",
              "    <tr>\n",
              "      <th>row.names</th>\n",
              "      <td>1.000000</td>\n",
              "      <td>0.171583</td>\n",
              "      <td>-0.044813</td>\n",
              "      <td>-0.064014</td>\n",
              "      <td>0.033851</td>\n",
              "      <td>-0.147769</td>\n",
              "      <td>-0.026758</td>\n",
              "      <td>0.088825</td>\n",
              "      <td>-0.014064</td>\n",
              "      <td>-0.063808</td>\n",
              "    </tr>\n",
              "    <tr>\n",
              "      <th>sbp</th>\n",
              "      <td>0.171583</td>\n",
              "      <td>1.000000</td>\n",
              "      <td>0.212247</td>\n",
              "      <td>0.158296</td>\n",
              "      <td>0.356500</td>\n",
              "      <td>-0.057454</td>\n",
              "      <td>0.238067</td>\n",
              "      <td>0.140096</td>\n",
              "      <td>0.388771</td>\n",
              "      <td>0.192354</td>\n",
              "    </tr>\n",
              "    <tr>\n",
              "      <th>tobacco</th>\n",
              "      <td>-0.044813</td>\n",
              "      <td>0.212247</td>\n",
              "      <td>1.000000</td>\n",
              "      <td>0.158905</td>\n",
              "      <td>0.286640</td>\n",
              "      <td>-0.014608</td>\n",
              "      <td>0.124529</td>\n",
              "      <td>0.200813</td>\n",
              "      <td>0.450330</td>\n",
              "      <td>0.299718</td>\n",
              "    </tr>\n",
              "    <tr>\n",
              "      <th>ldl</th>\n",
              "      <td>-0.064014</td>\n",
              "      <td>0.158296</td>\n",
              "      <td>0.158905</td>\n",
              "      <td>1.000000</td>\n",
              "      <td>0.440432</td>\n",
              "      <td>0.044048</td>\n",
              "      <td>0.330506</td>\n",
              "      <td>-0.033403</td>\n",
              "      <td>0.311799</td>\n",
              "      <td>0.263053</td>\n",
              "    </tr>\n",
              "    <tr>\n",
              "      <th>adiposity</th>\n",
              "      <td>0.033851</td>\n",
              "      <td>0.356500</td>\n",
              "      <td>0.286640</td>\n",
              "      <td>0.440432</td>\n",
              "      <td>1.000000</td>\n",
              "      <td>-0.043144</td>\n",
              "      <td>0.716556</td>\n",
              "      <td>0.100330</td>\n",
              "      <td>0.625954</td>\n",
              "      <td>0.254121</td>\n",
              "    </tr>\n",
              "    <tr>\n",
              "      <th>typea</th>\n",
              "      <td>-0.147769</td>\n",
              "      <td>-0.057454</td>\n",
              "      <td>-0.014608</td>\n",
              "      <td>0.044048</td>\n",
              "      <td>-0.043144</td>\n",
              "      <td>1.000000</td>\n",
              "      <td>0.074006</td>\n",
              "      <td>0.039498</td>\n",
              "      <td>-0.102606</td>\n",
              "      <td>0.103156</td>\n",
              "    </tr>\n",
              "    <tr>\n",
              "      <th>obesity</th>\n",
              "      <td>-0.026758</td>\n",
              "      <td>0.238067</td>\n",
              "      <td>0.124529</td>\n",
              "      <td>0.330506</td>\n",
              "      <td>0.716556</td>\n",
              "      <td>0.074006</td>\n",
              "      <td>1.000000</td>\n",
              "      <td>0.051620</td>\n",
              "      <td>0.291777</td>\n",
              "      <td>0.100095</td>\n",
              "    </tr>\n",
              "    <tr>\n",
              "      <th>alcohol</th>\n",
              "      <td>0.088825</td>\n",
              "      <td>0.140096</td>\n",
              "      <td>0.200813</td>\n",
              "      <td>-0.033403</td>\n",
              "      <td>0.100330</td>\n",
              "      <td>0.039498</td>\n",
              "      <td>0.051620</td>\n",
              "      <td>1.000000</td>\n",
              "      <td>0.101125</td>\n",
              "      <td>0.062531</td>\n",
              "    </tr>\n",
              "    <tr>\n",
              "      <th>age</th>\n",
              "      <td>-0.014064</td>\n",
              "      <td>0.388771</td>\n",
              "      <td>0.450330</td>\n",
              "      <td>0.311799</td>\n",
              "      <td>0.625954</td>\n",
              "      <td>-0.102606</td>\n",
              "      <td>0.291777</td>\n",
              "      <td>0.101125</td>\n",
              "      <td>1.000000</td>\n",
              "      <td>0.372973</td>\n",
              "    </tr>\n",
              "    <tr>\n",
              "      <th>chd</th>\n",
              "      <td>-0.063808</td>\n",
              "      <td>0.192354</td>\n",
              "      <td>0.299718</td>\n",
              "      <td>0.263053</td>\n",
              "      <td>0.254121</td>\n",
              "      <td>0.103156</td>\n",
              "      <td>0.100095</td>\n",
              "      <td>0.062531</td>\n",
              "      <td>0.372973</td>\n",
              "      <td>1.000000</td>\n",
              "    </tr>\n",
              "  </tbody>\n",
              "</table>\n",
              "</div>\n",
              "      <button class=\"colab-df-convert\" onclick=\"convertToInteractive('df-93e124d0-7a02-4869-9641-f78c3bd5a02d')\"\n",
              "              title=\"Convert this dataframe to an interactive table.\"\n",
              "              style=\"display:none;\">\n",
              "        \n",
              "  <svg xmlns=\"http://www.w3.org/2000/svg\" height=\"24px\"viewBox=\"0 0 24 24\"\n",
              "       width=\"24px\">\n",
              "    <path d=\"M0 0h24v24H0V0z\" fill=\"none\"/>\n",
              "    <path d=\"M18.56 5.44l.94 2.06.94-2.06 2.06-.94-2.06-.94-.94-2.06-.94 2.06-2.06.94zm-11 1L8.5 8.5l.94-2.06 2.06-.94-2.06-.94L8.5 2.5l-.94 2.06-2.06.94zm10 10l.94 2.06.94-2.06 2.06-.94-2.06-.94-.94-2.06-.94 2.06-2.06.94z\"/><path d=\"M17.41 7.96l-1.37-1.37c-.4-.4-.92-.59-1.43-.59-.52 0-1.04.2-1.43.59L10.3 9.45l-7.72 7.72c-.78.78-.78 2.05 0 2.83L4 21.41c.39.39.9.59 1.41.59.51 0 1.02-.2 1.41-.59l7.78-7.78 2.81-2.81c.8-.78.8-2.07 0-2.86zM5.41 20L4 18.59l7.72-7.72 1.47 1.35L5.41 20z\"/>\n",
              "  </svg>\n",
              "      </button>\n",
              "      \n",
              "  <style>\n",
              "    .colab-df-container {\n",
              "      display:flex;\n",
              "      flex-wrap:wrap;\n",
              "      gap: 12px;\n",
              "    }\n",
              "\n",
              "    .colab-df-convert {\n",
              "      background-color: #E8F0FE;\n",
              "      border: none;\n",
              "      border-radius: 50%;\n",
              "      cursor: pointer;\n",
              "      display: none;\n",
              "      fill: #1967D2;\n",
              "      height: 32px;\n",
              "      padding: 0 0 0 0;\n",
              "      width: 32px;\n",
              "    }\n",
              "\n",
              "    .colab-df-convert:hover {\n",
              "      background-color: #E2EBFA;\n",
              "      box-shadow: 0px 1px 2px rgba(60, 64, 67, 0.3), 0px 1px 3px 1px rgba(60, 64, 67, 0.15);\n",
              "      fill: #174EA6;\n",
              "    }\n",
              "\n",
              "    [theme=dark] .colab-df-convert {\n",
              "      background-color: #3B4455;\n",
              "      fill: #D2E3FC;\n",
              "    }\n",
              "\n",
              "    [theme=dark] .colab-df-convert:hover {\n",
              "      background-color: #434B5C;\n",
              "      box-shadow: 0px 1px 3px 1px rgba(0, 0, 0, 0.15);\n",
              "      filter: drop-shadow(0px 1px 2px rgba(0, 0, 0, 0.3));\n",
              "      fill: #FFFFFF;\n",
              "    }\n",
              "  </style>\n",
              "\n",
              "      <script>\n",
              "        const buttonEl =\n",
              "          document.querySelector('#df-93e124d0-7a02-4869-9641-f78c3bd5a02d button.colab-df-convert');\n",
              "        buttonEl.style.display =\n",
              "          google.colab.kernel.accessAllowed ? 'block' : 'none';\n",
              "\n",
              "        async function convertToInteractive(key) {\n",
              "          const element = document.querySelector('#df-93e124d0-7a02-4869-9641-f78c3bd5a02d');\n",
              "          const dataTable =\n",
              "            await google.colab.kernel.invokeFunction('convertToInteractive',\n",
              "                                                     [key], {});\n",
              "          if (!dataTable) return;\n",
              "\n",
              "          const docLinkHtml = 'Like what you see? Visit the ' +\n",
              "            '<a target=\"_blank\" href=https://colab.research.google.com/notebooks/data_table.ipynb>data table notebook</a>'\n",
              "            + ' to learn more about interactive tables.';\n",
              "          element.innerHTML = '';\n",
              "          dataTable['output_type'] = 'display_data';\n",
              "          await google.colab.output.renderOutput(dataTable, element);\n",
              "          const docLink = document.createElement('div');\n",
              "          docLink.innerHTML = docLinkHtml;\n",
              "          element.appendChild(docLink);\n",
              "        }\n",
              "      </script>\n",
              "    </div>\n",
              "  </div>\n",
              "  "
            ]
          },
          "metadata": {},
          "execution_count": 98
        }
      ]
    },
    {
      "cell_type": "markdown",
      "source": [
        "**One Hot-Encoding implemented with the code below:**"
      ],
      "metadata": {
        "id": "1gDwoKhdAyJ3"
      }
    },
    {
      "cell_type": "code",
      "source": [
        "one_hot_encoded_data = pd.get_dummies(df, columns = ['famhist'])\n",
        "print(one_hot_encoded_data)"
      ],
      "metadata": {
        "colab": {
          "base_uri": "https://localhost:8080/"
        },
        "id": "6i4SCwp1O_Nu",
        "outputId": "aaaec2fa-6952-4e52-eea2-be16185a112b"
      },
      "execution_count": null,
      "outputs": [
        {
          "output_type": "stream",
          "name": "stdout",
          "text": [
            "     row.names  sbp  tobacco    ldl  adiposity  typea  obesity  alcohol  age  \\\n",
            "0            1  160    12.00   5.73      23.11     49    25.30    97.20   52   \n",
            "1            2  144     0.01   4.41      28.61     55    28.87     2.06   63   \n",
            "2            3  118     0.08   3.48      32.28     52    29.14     3.81   46   \n",
            "3            4  170     7.50   6.41      38.03     51    31.99    24.26   58   \n",
            "4            5  134    13.60   3.50      27.78     60    25.99    57.34   49   \n",
            "..         ...  ...      ...    ...        ...    ...      ...      ...  ...   \n",
            "457        459  214     0.40   5.98      31.72     64    28.45     0.00   58   \n",
            "458        460  182     4.20   4.41      32.10     52    28.61    18.72   52   \n",
            "459        461  108     3.00   1.59      15.23     40    20.09    26.64   55   \n",
            "460        462  118     5.40  11.61      30.79     64    27.35    23.97   40   \n",
            "461        463  132     0.00   4.82      33.41     62    14.70     0.00   46   \n",
            "\n",
            "     chd  famhist_Absent  famhist_Present  \n",
            "0      1               0                1  \n",
            "1      1               1                0  \n",
            "2      0               0                1  \n",
            "3      1               0                1  \n",
            "4      1               0                1  \n",
            "..   ...             ...              ...  \n",
            "457    0               1                0  \n",
            "458    1               1                0  \n",
            "459    0               1                0  \n",
            "460    0               1                0  \n",
            "461    1               0                1  \n",
            "\n",
            "[462 rows x 12 columns]\n"
          ]
        }
      ]
    },
    {
      "cell_type": "markdown",
      "source": [
        "**Code below implements Standardization of Data**"
      ],
      "metadata": {
        "id": "w5YnnyrzuAl0"
      }
    },
    {
      "cell_type": "code",
      "source": [
        "sbp = one_hot_encoded_data['sbp']\n",
        "tobacco = one_hot_encoded_data['tobacco']\n",
        "ldl = one_hot_encoded_data['ldl']\n",
        "adiposity = one_hot_encoded_data['adiposity']\n",
        "famhistA = one_hot_encoded_data['famhist_Absent']\n",
        "famhistP = one_hot_encoded_data['famhist_Present']\n",
        "typea = one_hot_encoded_data['typea']\n",
        "obesity = one_hot_encoded_data['obesity']\n",
        "alcohol = one_hot_encoded_data['alcohol']\n",
        "age = one_hot_encoded_data['age']\n",
        "\n",
        "chd = one_hot_encoded_data['chd']\n",
        "y = chd\n",
        "\n",
        "sbp_standardized = preprocessing.scale(sbp)\n",
        "tobacco_standardized = preprocessing.scale(tobacco)\n",
        "ldl_standardized = preprocessing.scale(ldl)\n",
        "adiposity_standardized = preprocessing.scale(adiposity)\n",
        "typea_standardized = preprocessing.scale(typea)\n",
        "obesity_standardized = preprocessing.scale(obesity)\n",
        "alcohol_standardized = preprocessing.scale(alcohol)\n",
        "age_standardized = preprocessing.scale(age)\n",
        "standardized_data = np.array([sbp_standardized, tobacco_standardized, ldl_standardized, adiposity_standardized, typea_standardized, obesity_standardized, alcohol_standardized, age_standardized, famhistA])\n",
        "\n",
        "\n"
      ],
      "metadata": {
        "id": "wpJ3a-RSRhTu"
      },
      "execution_count": null,
      "outputs": []
    },
    {
      "cell_type": "markdown",
      "source": [
        "**Code below defines the sigmoid function**"
      ],
      "metadata": {
        "id": "bsSAFoURLibE"
      }
    },
    {
      "cell_type": "code",
      "source": [
        "def sigmoid(w, x, b):\n",
        "  z = b + np.matmul(w, x)\n",
        "  return (1/(1 + np.exp(-z)))"
      ],
      "metadata": {
        "id": "DVXVsOw7KOX9"
      },
      "execution_count": null,
      "outputs": []
    },
    {
      "cell_type": "markdown",
      "source": [
        "**Code below defines the cost function**"
      ],
      "metadata": {
        "id": "y022vFEjLm5X"
      }
    },
    {
      "cell_type": "code",
      "source": [
        "def cost_func(y, yhat):\n",
        "  return -np.sum(np.dot(y.T,np.log(1-yhat)+np.dot((1-y).T,np.log(1-yhat))))/( len(y))"
      ],
      "metadata": {
        "id": "DIWwCgKXKxMB"
      },
      "execution_count": null,
      "outputs": []
    },
    {
      "cell_type": "markdown",
      "source": [
        "**Code below implements the Batch gradient descent iteration**"
      ],
      "metadata": {
        "id": "PIBNANdHLr65"
      }
    },
    {
      "cell_type": "code",
      "source": [
        "def update(b, w, y, yhat, x, a):\n",
        "    db = np.sum(yhat - y)/len(y)\n",
        "    b = b - a*db\n",
        "    dw = np.dot((yhat - y),x.T)/len(y)\n",
        "    w = w - a*dw\n",
        "    return b,w\n",
        "\n",
        "def GradientDescentCost(iterations, x, y, a):\n",
        "  b = 1\n",
        "  w = np.random.rand(1, 9)\n",
        "  costA = []\n",
        "  for i in range(iterations):\n",
        "    yhat = sigmoid(w, x, b)\n",
        "    yhat = np.reshape(yhat, len(y))\n",
        "    y=np.reshape(y, len(y))\n",
        "    cost = cost_func(y,yhat)\n",
        "    b_old = b\n",
        "    w_old = w\n",
        "    b,w = update(b_old, w_old, y, yhat, x, a)\n",
        "    costA.append(cost)\n",
        "  return costA, b, w"
      ],
      "metadata": {
        "id": "rdwlAY4IRyMd"
      },
      "execution_count": null,
      "outputs": []
    },
    {
      "cell_type": "code",
      "source": [
        "alpha = [0.001, 0.0001]\n",
        "iterations = [500, 1000, 10000]\n",
        "beta = 0\n",
        "theta = []\n",
        "\n",
        "for i in range(len(alpha)):\n",
        "  for j in range(len(iterations)):\n",
        "    costFunction, beta, theta = GradientDescentCost(iterations[j], standardized_data, y, alpha[i])\n",
        "    plt.scatter(range(iterations[j]), costFunction)\n",
        "    plt.title(\"Batch gradient descent plots for varios number of iterations\")\n",
        "    plt.ylabel('Cost')\n",
        "    plt.xlabel('Iterations')\n",
        "    plt.figure()"
      ],
      "metadata": {
        "colab": {
          "base_uri": "https://localhost:8080/",
          "height": 1000
        },
        "id": "gjhpMStAEftH",
        "outputId": "ddfac2a8-2c3b-47e5-b47a-4590922601b7"
      },
      "execution_count": null,
      "outputs": [
        {
          "output_type": "display_data",
          "data": {
            "text/plain": [
              "<Figure size 432x288 with 1 Axes>"
            ],
            "image/png": "[encoded data removed]"
          },
          "metadata": {
            "needs_background": "light"
          }
        },
        {
          "output_type": "display_data",
          "data": {
            "text/plain": [
              "<Figure size 432x288 with 1 Axes>"
            ],
            "image/png": "[encoded data removed]"
          },
          "metadata": {
            "needs_background": "light"
          }
        },
        {
          "output_type": "display_data",
          "data": {
            "text/plain": [
              "<Figure size 432x288 with 1 Axes>"
            ],
            "image/png": "[encoded data removed]"
          },
          "metadata": {
            "needs_background": "light"
          }
        },
        {
          "output_type": "display_data",
          "data": {
            "text/plain": [
              "<Figure size 432x288 with 1 Axes>"
            ],
            "image/png": "[encoded data removed]"
          },
          "metadata": {
            "needs_background": "light"
          }
        },
        {
          "output_type": "display_data",
          "data": {
            "text/plain": [
              "<Figure size 432x288 with 1 Axes>"
            ],
            "image/png": "[encoded data removed]"
          },
          "metadata": {
            "needs_background": "light"
          }
        },
        {
          "output_type": "display_data",
          "data": {
            "text/plain": [
              "<Figure size 432x288 with 1 Axes>"
            ],
            "image/png": "[encoded data removed]"
          },
          "metadata": {
            "needs_background": "light"
          }
        },
        {
          "output_type": "display_data",
          "data": {
            "text/plain": [
              "<Figure size 432x288 with 0 Axes>"
            ]
          },
          "metadata": {}
        }
      ]
    },
    {
      "cell_type": "markdown",
      "source": [
        "**Based on what you see in the learning curve, what value for epoch does seem reasonable to stop training for each learning rates (cost will not decrease significantly anymore)?**\n",
        "\n",
        "When alpha = 0.001,the graphs for 500 and 1000 iterations have linear graphs and so more iterations are needed for each. At around 10000 iterations is when you can see changes happenning the cost starts decreasing. When alpha = 0.0001, even 10000 iterations isnt enough to see the cost start decreasing and so the graphs for all the iterations are linear."
      ],
      "metadata": {
        "id": "SF95c20SB5Dy"
      }
    },
    {
      "cell_type": "markdown",
      "source": [
        "**Code below implements the mini-batch gradient descent iteration**"
      ],
      "metadata": {
        "id": "pXEozdDZCRBJ"
      }
    },
    {
      "cell_type": "code",
      "source": [
        "def minibatch_gradient_descent(X,y,theta,alpha=0.001,iterations=500,batch_size =50):\n",
        "    w = np.random.rand(1, 9)\n",
        "    m = len(y)\n",
        "    cost_change = np.zeros(iterations)\n",
        "    n_batches = int(m/batch_size)\n",
        "\n",
        "    for t in range(iterations):\n",
        "        cost =0.0\n",
        "        indices = np.random.permutation(m)\n",
        "        X = X[indices]\n",
        "        y = y[indices]\n",
        "        for i in range(0,m,batch_size):\n",
        "            X_i = X[i:i+batch_size]\n",
        "            y_i = y[i:i+batch_size]\n",
        "\n",
        "            X_i = np.c_[np.ones(len(X_i)),X_i]\n",
        "\n",
        "            prediction = np.dot(X_i,theta)\n",
        "\n",
        "            theta = theta -(1/m)*alpha*( X_i.T.dot((prediction - y_i)))\n",
        "            cost += cost_func(theta,X_i,y_i)\n",
        "        cost_change[t]  = cost\n",
        "\n",
        "    return theta, cost_change\n",
        "\n",
        "def gradientDescent(iterations, x, y, a, batch_size):\n",
        "  b = 1\n",
        "  w = np.random.rand(1, 9)\n",
        "  costA = []\n",
        "  for i in range(iterations):\n",
        "    yhat = sigmoid(w, x, b)\n",
        "    yhat = np.reshape(yhat, len(y))\n",
        "    y=np.reshape(y, len(y))\n",
        "    cost = cost_func(y,yhat)\n",
        "    b_old = b\n",
        "    w_old = w\n",
        "    b,w = update(b_old, w_old, y, yhat, x, a)\n",
        "    costA.append(cost)\n",
        "  return costA, b, w\n",
        "\n",
        "alpha = [0.001, 0.0001]\n",
        "iterations = [500, 1000, 10000]\n",
        "beta = 0\n",
        "theta = []\n",
        "batch_size = 50\n",
        "\n",
        "for i in range(len(alpha)):\n",
        "  for j in range(len(iterations)):\n",
        "    costFunction, beta, theta = GradientDescentCost(iterations[j], standardized_data, y, alpha[i])\n",
        "    plt.scatter(range(iterations[j]), costFunction)\n",
        "    plt.title(\"Batch gradient descent plots for varios number of iterations\")\n",
        "    plt.ylabel('Cost')\n",
        "    plt.xlabel('Iterations')\n",
        "    plt.figure()\n",
        "\n"
      ],
      "metadata": {
        "colab": {
          "base_uri": "https://localhost:8080/",
          "height": 1000
        },
        "id": "h0ZvTPUm0Eqs",
        "outputId": "655328c5-9f6d-481a-f3ca-508304cac835"
      },
      "execution_count": null,
      "outputs": [
        {
          "output_type": "display_data",
          "data": {
            "text/plain": [
              "<Figure size 432x288 with 1 Axes>"
            ],
            "image/png": "[encoded data removed]"
          },
          "metadata": {
            "needs_background": "light"
          }
        },
        {
          "output_type": "display_data",
          "data": {
            "text/plain": [
              "<Figure size 432x288 with 1 Axes>"
            ],
            "image/png": "[encoded data removed]"
          },
          "metadata": {
            "needs_background": "light"
          }
        },
        {
          "output_type": "display_data",
          "data": {
            "text/plain": [
              "<Figure size 432x288 with 1 Axes>"
            ],
            "image/png": "[encoded data removed]"
          },
          "metadata": {
            "needs_background": "light"
          }
        },
        {
          "output_type": "display_data",
          "data": {
            "text/plain": [
              "<Figure size 432x288 with 1 Axes>"
            ],
            "image/png": "[encoded data removed]"
          },
          "metadata": {
            "needs_background": "light"
          }
        },
        {
          "output_type": "display_data",
          "data": {
            "text/plain": [
              "<Figure size 432x288 with 1 Axes>"
            ],
            "image/png": "[encoded data removed]"
          },
          "metadata": {
            "needs_background": "light"
          }
        },
        {
          "output_type": "display_data",
          "data": {
            "text/plain": [
              "<Figure size 432x288 with 1 Axes>"
            ],
            "image/png": "[encoded data removed]"
          },
          "metadata": {
            "needs_background": "light"
          }
        },
        {
          "output_type": "display_data",
          "data": {
            "text/plain": [
              "<Figure size 432x288 with 0 Axes>"
            ]
          },
          "metadata": {}
        }
      ]
    },
    {
      "cell_type": "markdown",
      "source": [
        "# New Section"
      ],
      "metadata": {
        "id": "d02u-vrhLilB"
      }
    },
    {
      "cell_type": "markdown",
      "source": [
        "# New Section"
      ],
      "metadata": {
        "id": "K_YXfR3BLjBh"
      }
    },
    {
      "cell_type": "markdown",
      "source": [
        "**Based on what you see in the learning curve, what value for epoch does seem reasonable to stop training for each learning rates (cost will not decrease significantly anymore)?**\n",
        "\n",
        "Similarly to the batch gradient descent results, when alpha = 0.001,the graphs for 500 and 1000 iterations have linear graphs and so more iterations are needed for each. At around 10000 iterations is when you can see changes happenning the cost starts decreasing. When alpha = 0.0001, even 10000 iterations isnt enough to see the cost start decreasing and so the graphs for all the iterations are linear."
      ],
      "metadata": {
        "id": "7zoyTF5SBeVA"
      }
    },
    {
      "cell_type": "markdown",
      "source": [
        "**Comparing results with implemented library for batch gradient descent**"
      ],
      "metadata": {
        "id": "p00mi6RZCmiW"
      }
    },
    {
      "cell_type": "code",
      "source": [
        "logisticR = LogisticRegression()\n",
        "logisticModel = logisticR.fit(standardized_data.T, y)\n",
        "\n",
        "costFunct, beta, theta = GradientDescentCost(iterations[2], standardized_data, y, alpha[0])\n",
        "print(\"Modeled theta coefficient\")\n",
        "print(logisticModel.coef_)\n",
        "print(\"Calculated theta coefficient\")\n",
        "print(theta)\n",
        "print(\"Deviation\")\n",
        "print(abs(logisticModel.coef_ - theta))"
      ],
      "metadata": {
        "colab": {
          "base_uri": "https://localhost:8080/"
        },
        "id": "nRZtsv0s2myt",
        "outputId": "eee53bce-3ab9-4343-9e6b-cca5275cde30"
      },
      "execution_count": null,
      "outputs": [
        {
          "output_type": "stream",
          "name": "stdout",
          "text": [
            "Modeled theta coefficient\n",
            "[[ 0.1323615   0.36035752  0.35578382  0.14228084  0.37924611 -0.25497865\n",
            "   0.00443777  0.64895064 -0.88057572]]\n",
            "Calculated theta coefficient\n",
            "[[ 0.13202836  0.37441293  0.3859652  -0.11598691  0.27880179 -0.0147875\n",
            "   0.16526482  0.57487101 -0.64614419]]\n",
            "Deviation\n",
            "[[0.00033313 0.01405541 0.03018137 0.25826775 0.10044432 0.24019115\n",
            "  0.16082706 0.07407963 0.23443153]]\n"
          ]
        }
      ]
    },
    {
      "cell_type": "markdown",
      "source": [
        "The deviation shows that the values are fairly close to each other and the deviation is fairly small. Some coefficients differ more than others, such as coefficient 8."
      ],
      "metadata": {
        "id": "sgrGQyM1dD-I"
      }
    },
    {
      "cell_type": "markdown",
      "source": [
        "**Comparing results with implemented library for mini-batch gradient descent**"
      ],
      "metadata": {
        "id": "VEou7K12CsCG"
      }
    },
    {
      "cell_type": "code",
      "source": [
        "logisticR = LogisticRegression()\n",
        "logisticModel = logisticR.fit(standardized_data.T, y)\n",
        "\n",
        "costFunct, beta, theta = gradientDescent(iterations[2], standardized_data, y, alpha[0],batch_size)\n",
        "print(\"Modeled theta coefficient\")\n",
        "print(logisticModel.coef_)\n",
        "print(\"Calculated theta coefficient\")\n",
        "print(theta)\n",
        "print(\"Deviation\")\n",
        "print(abs(logisticModel.coef_ - theta))"
      ],
      "metadata": {
        "colab": {
          "base_uri": "https://localhost:8080/"
        },
        "id": "RwqhKt2V8zUs",
        "outputId": "78bee555-7429-4fb3-e2eb-7961b00fed40"
      },
      "execution_count": null,
      "outputs": [
        {
          "output_type": "stream",
          "name": "stdout",
          "text": [
            "Modeled theta coefficient\n",
            "[[ 0.1323615   0.36035752  0.35578382  0.14228084  0.37924611 -0.25497865\n",
            "   0.00443777  0.64895064 -0.88057572]]\n",
            "Calculated theta coefficient\n",
            "[[ 0.27283903  0.46127861  0.4831107  -0.12381971  0.3159189  -0.0410068\n",
            "   0.07847026  0.43137762 -0.55329889]]\n",
            "Deviation\n",
            "[[0.14047753 0.10092109 0.12732688 0.26610055 0.06332721 0.21397185\n",
            "  0.07403249 0.21757302 0.32727683]]\n"
          ]
        }
      ]
    },
    {
      "cell_type": "markdown",
      "source": [
        "As seen by the deviation, the values are fairly close to each other and the deviation is fairly small. Some coefficients differ more than others."
      ],
      "metadata": {
        "id": "1owQF_c_czfK"
      }
    }
  ]
}