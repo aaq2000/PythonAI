{
  "nbformat": 4,
  "nbformat_minor": 0,
  "metadata": {
    "colab": {
      "provenance": [],
      "include_colab_link": true
    },
    "kernelspec": {
      "name": "python3",
      "display_name": "Python 3"
    },
    "language_info": {
      "name": "python"
    }
  },
  "cells": [
    {
      "cell_type": "markdown",
      "metadata": {
        "id": "view-in-github",
        "colab_type": "text"
      },
      "source": [
        "<a href=\"https://colab.research.google.com/github/aaq2000/PythonAI/blob/main/Aakif_Qidwai_Laddb_4.ipynb\" target=\"_parent\"><img src=\"https://colab.research.google.com/assets/colab-badge.svg\" alt=\"Open In Colab\"/></a>"
      ]
    },
    {
      "cell_type": "markdown",
      "source": [
        "**Lab #4**\n",
        "\n",
        "**First and Last Name: Aakif Qidwai**\n",
        "\n",
        "**Student ID: 500916258**"
      ],
      "metadata": {
        "id": "6G8NzPwPHZlj"
      }
    },
    {
      "cell_type": "code",
      "source": [
        "import numpy as np\n",
        "import pandas as pd\n",
        "import matplotlib.pyplot as plt\n",
        "import math\n",
        "import random\n",
        "import tensorflow as tf\n",
        "\n",
        "from sklearn.model_selection import train_test_split\n",
        "from sklearn.metrics import mean_absolute_error, mean_squared_error, r2_score\n",
        "\n",
        "from tensorflow.keras.models import Sequential\n",
        "from tensorflow.keras.layers import Dense\n",
        "\n",
        "from sklearn.preprocessing import MinMaxScaler\n",
        "from sklearn.preprocessing import StandardScaler"
      ],
      "metadata": {
        "id": "atxrePrUHb2D"
      },
      "execution_count": null,
      "outputs": []
    },
    {
      "cell_type": "code",
      "source": [
        "def generate_samples(n_samples):\n",
        "    x = np.random.uniform(-1, 1, n_samples)\n",
        "    y = 0.2 * x**4 + 2 * x**3 + 0.1 * x**2 + 10\n",
        "    return x, y\n",
        "\n",
        "x, y = generate_samples(30000)\n",
        "\n",
        "plt.scatter(x, y, s=1)\n",
        "plt.title(\"Initial plot\")\n",
        "plt.xlabel(\"x\")\n",
        "plt.ylabel(\"y\")\n",
        "plt.show()"
      ],
      "metadata": {
        "id": "3yAOmxKmHd3g",
        "colab": {
          "base_uri": "https://localhost:8080/",
          "height": 295
        },
        "outputId": "7e76ab0c-4542-4305-d514-db67006104cc"
      },
      "execution_count": null,
      "outputs": [
        {
          "output_type": "display_data",
          "data": {
            "text/plain": [
              "<Figure size 432x288 with 1 Axes>"
            ],
            "image/png": "[encoded data removed]"
          },
          "metadata": {
            "needs_background": "light"
          }
        }
      ]
    },
    {
      "cell_type": "code",
      "source": [
        "def get_dataset(shuffle=True):\n",
        "    x = np.random.uniform(-1, 1, 30000)\n",
        "    y = 0.2 * x**4 + 2 * x**3 + 0.1 * x**2 + 10\n",
        "    data = np.vstack((x, y)).T\n",
        "\n",
        "    if shuffle:\n",
        "        np.random.shuffle(data)\n",
        "    return data\n",
        "\n",
        "data_shuffled = get_dataset(shuffle=True)\n",
        "data_unshuffled = get_dataset(shuffle=False)"
      ],
      "metadata": {
        "id": "KbWha613Nu8y"
      },
      "execution_count": null,
      "outputs": []
    },
    {
      "cell_type": "code",
      "source": [
        "def train_val_test_split(data, train_ratio=0.30, val_ratio=0.20, test_ratio=0.50):\n",
        "\n",
        "    n_samples = len(data)\n",
        "    n_train = int(n_samples * train_ratio)\n",
        "    n_val = int(n_samples * val_ratio)\n",
        "    n_test = n_samples - n_train - n_val\n",
        "\n",
        "    # train, validation, and test sets\n",
        "    train_set = data[:n_train]\n",
        "    val_set = data[n_train:n_train+n_val]\n",
        "    test_set = data[n_train+n_val:]\n",
        "\n",
        "    return train_set, val_set, test_set"
      ],
      "metadata": {
        "id": "LnhL-7WqOMMV"
      },
      "execution_count": null,
      "outputs": []
    },
    {
      "cell_type": "code",
      "source": [
        "data = np.vstack((x, y)).T\n",
        "\n",
        "def scale_data(data):\n",
        "    scaler = MinMaxScaler()\n",
        "    scaled_data = scaler.fit_transform(data)\n",
        "    return scaled_data\n",
        "\n",
        "scaled_data = scale_data(data)\n"
      ],
      "metadata": {
        "id": "Za68yWEMPHFX"
      },
      "execution_count": null,
      "outputs": []
    },
    {
      "cell_type": "code",
      "source": [
        "def evaluate_predictions(y_test, y_pred):\n",
        "    # mean absolute error\n",
        "    mae = mean_absolute_error(y_test, y_pred)\n",
        "\n",
        "    # mean squared error\n",
        "    mse = mean_squared_error(y_test, y_pred)\n",
        "\n",
        "    # root mean squared error\n",
        "    rmse = np.sqrt(mse)\n",
        "\n",
        "    # r2 score\n",
        "    r2 = r2_score(y_test, y_pred)\n",
        "\n",
        "    return mae, mse, rmse, r2"
      ],
      "metadata": {
        "id": "iFQz0_ukP6uX"
      },
      "execution_count": null,
      "outputs": []
    },
    {
      "cell_type": "markdown",
      "source": [
        "**Neural network of 2 structures**"
      ],
      "metadata": {
        "id": "1jIpDvfii7uU"
      }
    },
    {
      "cell_type": "code",
      "source": [
        "# Structure 1\n",
        "model1 = tf.keras.Sequential([\n",
        "    tf.keras.layers.Dense(12, activation='relu', input_shape=(1,)),\n",
        "    tf.keras.layers.Dense(8, activation='relu'),\n",
        "    tf.keras.layers.Dense(4, activation='relu'),\n",
        "    tf.keras.layers.Dense(1)\n",
        "])\n",
        "\n",
        "# Structure 2\n",
        "model2 = tf.keras.Sequential([\n",
        "    tf.keras.layers.Dense(24, activation='relu', input_shape=(1,)),\n",
        "    tf.keras.layers.Dense(1)\n",
        "])"
      ],
      "metadata": {
        "id": "CdW11Rfci-Hp"
      },
      "execution_count": null,
      "outputs": []
    },
    {
      "cell_type": "markdown",
      "source": [
        "`**Case 1 - Shuffled:**"
      ],
      "metadata": {
        "id": "JYZbwMl3mrBH"
      }
    },
    {
      "cell_type": "code",
      "source": [
        "def function(x):\n",
        "    return 0.2 * x**4 + 2 * x**3 + 0.1 * x**2 + 10\n",
        "X = np.random.uniform(-1, 1, size=(30000,))\n",
        "y = function(X)\n",
        "\n",
        "X_train, X_test, y_train, y_test = train_test_split(X, y, test_size=0.5, random_state=42)\n",
        "X_train, X_val, y_train, y_val = train_test_split(X_train, y_train, test_size=0.4, random_state=42)\n",
        "\n",
        "model = tf.keras.Sequential([\n",
        "    tf.keras.layers.Dense(12, activation='relu', input_shape=(1,)),\n",
        "    tf.keras.layers.Dense(8, activation='relu'),\n",
        "    tf.keras.layers.Dense(4, activation='relu'),\n",
        "    tf.keras.layers.Dense(1)\n",
        "])\n",
        "\n",
        "model.compile(optimizer='adam', loss='mse')\n",
        "\n",
        "history = model.fit(X_train, y_train, epochs=20, batch_size=12, validation_data=(X_val, y_val))\n",
        "\n",
        "y_pred = model.predict(X_test)\n",
        "mae = mean_absolute_error(y_test, y_pred)\n",
        "mse = mean_squared_error(y_test, y_pred)\n",
        "rmse = np.sqrt(mse)\n",
        "r2 = r2_score(y_test, y_pred)\n",
        "\n",
        "print(\"MAE:\", mae)\n",
        "print(\"MSE:\", mse)\n",
        "print(\"RMSE:\", rmse)\n",
        "print(\"R2 Score:\", r2)\n",
        "\n",
        "plt.scatter(X_test, y_test, color='blue', label='Actual Data')\n",
        "plt.scatter(X_test, y_pred, color='red', label='Predicted Data')\n",
        "plt.legend()\n",
        "plt.show()"
      ],
      "metadata": {
        "colab": {
          "base_uri": "https://localhost:8080/",
          "height": 1000
        },
        "id": "gPn1IyXjmqRJ",
        "outputId": "3f8c85f5-e08a-45a5-f160-b67dade2115c"
      },
      "execution_count": null,
      "outputs": [
        {
          "output_type": "stream",
          "name": "stdout",
          "text": [
            "Epoch 1/20\n",
            "750/750 [==============================] - 4s 4ms/step - loss: 30.6584 - val_loss: 0.2497\n",
            "Epoch 2/20\n",
            "750/750 [==============================] - 4s 5ms/step - loss: 0.1337 - val_loss: 0.0759\n",
            "Epoch 3/20\n",
            "750/750 [==============================] - 4s 5ms/step - loss: 0.0533 - val_loss: 0.0437\n",
            "Epoch 4/20\n",
            "750/750 [==============================] - 3s 4ms/step - loss: 0.0433 - val_loss: 0.0434\n",
            "Epoch 5/20\n",
            "750/750 [==============================] - 2s 3ms/step - loss: 0.0433 - val_loss: 0.0430\n",
            "Epoch 6/20\n",
            "750/750 [==============================] - 4s 5ms/step - loss: 0.0437 - val_loss: 0.0446\n",
            "Epoch 7/20\n",
            "750/750 [==============================] - 3s 4ms/step - loss: 0.0441 - val_loss: 0.0437\n",
            "Epoch 8/20\n",
            "750/750 [==============================] - 2s 3ms/step - loss: 0.0440 - val_loss: 0.0519\n",
            "Epoch 9/20\n",
            "750/750 [==============================] - 2s 3ms/step - loss: 0.0443 - val_loss: 0.0457\n",
            "Epoch 10/20\n",
            "750/750 [==============================] - 2s 3ms/step - loss: 0.0445 - val_loss: 0.0432\n",
            "Epoch 11/20\n",
            "750/750 [==============================] - 4s 5ms/step - loss: 0.0443 - val_loss: 0.0486\n",
            "Epoch 12/20\n",
            "750/750 [==============================] - 2s 3ms/step - loss: 0.0445 - val_loss: 0.0441\n",
            "Epoch 13/20\n",
            "750/750 [==============================] - 2s 3ms/step - loss: 0.0445 - val_loss: 0.0435\n",
            "Epoch 14/20\n",
            "750/750 [==============================] - 2s 3ms/step - loss: 0.0446 - val_loss: 0.0430\n",
            "Epoch 15/20\n",
            "750/750 [==============================] - 3s 4ms/step - loss: 0.0443 - val_loss: 0.0438\n",
            "Epoch 16/20\n",
            "750/750 [==============================] - 4s 5ms/step - loss: 0.0449 - val_loss: 0.0456\n",
            "Epoch 17/20\n",
            "750/750 [==============================] - 3s 4ms/step - loss: 0.0441 - val_loss: 0.0463\n",
            "Epoch 18/20\n",
            "750/750 [==============================] - 3s 3ms/step - loss: 0.0449 - val_loss: 0.0471\n",
            "Epoch 19/20\n",
            "750/750 [==============================] - 2s 3ms/step - loss: 0.0445 - val_loss: 0.0437\n",
            "Epoch 20/20\n",
            "750/750 [==============================] - 3s 4ms/step - loss: 0.0448 - val_loss: 0.0497\n",
            "469/469 [==============================] - 1s 2ms/step\n",
            "MAE: 0.17135945462697905\n",
            "MSE: 0.048307988260785355\n",
            "RMSE: 0.2197907829295518\n",
            "R2 Score: 0.9149884580829802\n"
          ]
        },
        {
          "output_type": "display_data",
          "data": {
            "text/plain": [
              "<Figure size 432x288 with 1 Axes>"
            ],
            "image/png": "[encoded data removed]"
          },
          "metadata": {
            "needs_background": "light"
          }
        }
      ]
    },
    {
      "cell_type": "markdown",
      "source": [
        "**Case 1 - Unshuffled:**"
      ],
      "metadata": {
        "id": "EjWFke3Kkkc9"
      }
    },
    {
      "cell_type": "code",
      "source": [
        "def function(x):\n",
        "    return 0.2 * x**4 + 2 * x**3 + 0.1 * x**2 + 10\n",
        "\n",
        "X = np.random.uniform(-1, 1, size=(30000,))\n",
        "y = function(X)\n",
        "\n",
        "X_train, X_test, y_train, y_test = train_test_split(X, y, test_size=0.5, shuffle=False, random_state=42)\n",
        "X_train, X_val, y_train, y_val = train_test_split(X_train, y_train, test_size=0.4, shuffle=False, random_state=42)\n",
        "\n",
        "model = tf.keras.Sequential([\n",
        "    tf.keras.layers.Dense(12, activation='relu', input_shape=(1,)),\n",
        "    tf.keras.layers.Dense(8, activation='relu'),\n",
        "    tf.keras.layers.Dense(4, activation='relu'),\n",
        "    tf.keras.layers.Dense(1)\n",
        "])\n",
        "\n",
        "model.compile(optimizer='adam', loss='mse')\n",
        "\n",
        "history = model.fit(X_train, y_train, epochs=20, batch_size=12, validation_data=(X_val, y_val))\n",
        "\n",
        "y_pred = model.predict(X_test)\n",
        "mae = mean_absolute_error(y_test, y_pred)\n",
        "mse = mean_squared_error(y_test, y_pred)\n",
        "rmse = np.sqrt(mse)\n",
        "r2 = r2_score(y_test, y_pred)\n",
        "\n",
        "print(\"MAE:\", mae)\n",
        "print(\"MSE:\", mse)\n",
        "print(\"RMSE:\", rmse)\n",
        "print(\"R2 Score:\", r2)\n",
        "\n",
        "plt.scatter(X_test, y_test, color='blue', label='Actual Data')\n",
        "plt.scatter(X_test, y_pred, color='red', label='Predicted Data')\n",
        "plt.legend()\n",
        "plt.show()"
      ],
      "metadata": {
        "id": "d_un3EEukaSI",
        "outputId": "695d4a8f-bfa0-468d-b304-0cdf2176b60c",
        "colab": {
          "base_uri": "https://localhost:8080/",
          "height": 1000
        }
      },
      "execution_count": null,
      "outputs": [
        {
          "output_type": "stream",
          "name": "stdout",
          "text": [
            "Epoch 1/20\n",
            "750/750 [==============================] - 4s 4ms/step - loss: 94.7637 - val_loss: 87.5838\n",
            "Epoch 2/20\n",
            "750/750 [==============================] - 2s 3ms/step - loss: 81.1960 - val_loss: 74.7605\n",
            "Epoch 3/20\n",
            "750/750 [==============================] - 3s 4ms/step - loss: 69.0221 - val_loss: 63.2380\n",
            "Epoch 4/20\n",
            "750/750 [==============================] - 3s 4ms/step - loss: 58.0898 - val_loss: 52.9027\n",
            "Epoch 5/20\n",
            "750/750 [==============================] - 4s 5ms/step - loss: 48.2945 - val_loss: 43.6577\n",
            "Epoch 6/20\n",
            "750/750 [==============================] - 2s 3ms/step - loss: 39.5622 - val_loss: 35.4514\n",
            "Epoch 7/20\n",
            "750/750 [==============================] - 2s 3ms/step - loss: 31.8418 - val_loss: 28.2315\n",
            "Epoch 8/20\n",
            "750/750 [==============================] - 2s 3ms/step - loss: 25.0903 - val_loss: 21.9624\n",
            "Epoch 9/20\n",
            "750/750 [==============================] - 2s 3ms/step - loss: 19.2719 - val_loss: 16.6113\n",
            "Epoch 10/20\n",
            "750/750 [==============================] - 3s 4ms/step - loss: 14.3527 - val_loss: 12.1386\n",
            "Epoch 11/20\n",
            "750/750 [==============================] - 3s 4ms/step - loss: 10.2978 - val_loss: 8.5127\n",
            "Epoch 12/20\n",
            "750/750 [==============================] - 2s 3ms/step - loss: 7.0645 - val_loss: 5.6823\n",
            "Epoch 13/20\n",
            "750/750 [==============================] - 2s 3ms/step - loss: 4.5995 - val_loss: 3.5879\n",
            "Epoch 14/20\n",
            "750/750 [==============================] - 2s 3ms/step - loss: 2.8324 - val_loss: 2.1498\n",
            "Epoch 15/20\n",
            "750/750 [==============================] - 3s 4ms/step - loss: 1.6730 - val_loss: 1.2657\n",
            "Epoch 16/20\n",
            "750/750 [==============================] - 4s 5ms/step - loss: 1.0076 - val_loss: 0.8083\n",
            "Epoch 17/20\n",
            "750/750 [==============================] - 3s 4ms/step - loss: 0.6965 - val_loss: 0.6287\n",
            "Epoch 18/20\n",
            "750/750 [==============================] - 2s 3ms/step - loss: 0.5904 - val_loss: 0.5820\n",
            "Epoch 19/20\n",
            "750/750 [==============================] - 3s 4ms/step - loss: 0.5679 - val_loss: 0.5765\n",
            "Epoch 20/20\n",
            "750/750 [==============================] - 4s 6ms/step - loss: 0.5656 - val_loss: 0.5764\n",
            "469/469 [==============================] - 1s 2ms/step\n",
            "MAE: 0.5253080393263673\n",
            "MSE: 0.5896008222192128\n",
            "RMSE: 0.7678546882185541\n",
            "R2 Score: -1.4013413803803942e-05\n"
          ]
        },
        {
          "output_type": "display_data",
          "data": {
            "text/plain": [
              "<Figure size 432x288 with 1 Axes>"
            ],
            "image/png": "[encoded data removed]"
          },
          "metadata": {
            "needs_background": "light"
          }
        }
      ]
    },
    {
      "cell_type": "markdown",
      "source": [
        "**Case 2 - Shuffled:**"
      ],
      "metadata": {
        "id": "rtfwTcBkqJJ4"
      }
    },
    {
      "cell_type": "code",
      "source": [
        "def function(x):\n",
        "    return 0.2 * x**4 + 2 * x**3 + 0.1 * x**2 + 10\n",
        "\n",
        "X = np.random.uniform(-1, 1, size=(30000,))\n",
        "y = function(X)\n",
        "\n",
        "X_train, X_test, y_train, y_test = train_test_split(X, y, test_size=0.5, random_state=42)\n",
        "X_train, X_val, y_train, y_val = train_test_split(X_train, y_train, test_size=0.4, random_state=42)\n",
        "\n",
        "model2 = tf.keras.Sequential([\n",
        "    tf.keras.layers.Dense(24, activation='relu', input_shape=(1,)),\n",
        "    tf.keras.layers.Dense(1)\n",
        "])\n",
        "\n",
        "model2.compile(optimizer='adam', loss='mse')\n",
        "\n",
        "history = model2.fit(X_train, y_train, epochs=20, batch_size=12, validation_data=(X_val, y_val))\n",
        "\n",
        "y_pred = model2.predict(X_test)\n",
        "mae = mean_absolute_error(y_test, y_pred)\n",
        "mse = mean_squared_error(y_test, y_pred)\n",
        "rmse = np.sqrt(mse)\n",
        "r2 = r2_score(y_test, y_pred)\n",
        "\n",
        "print(\"MAE:\", mae)\n",
        "print(\"MSE:\", mse)\n",
        "print(\"RMSE:\", rmse)\n",
        "print(\"R2 Score:\", r2)\n",
        "\n",
        "plt.scatter(X_test, y_test, color='blue', label='Actual Data')\n",
        "plt.scatter(X_test, y_pred, color='red', label='Predicted Data')\n",
        "plt.legend()\n",
        "plt.show()"
      ],
      "metadata": {
        "id": "Qc-0lKSSulSE",
        "outputId": "49577848-2df9-498c-ac19-8946dd6da6e0",
        "colab": {
          "base_uri": "https://localhost:8080/",
          "height": 1000
        }
      },
      "execution_count": null,
      "outputs": [
        {
          "output_type": "stream",
          "name": "stdout",
          "text": [
            "Epoch 1/20\n",
            "750/750 [==============================] - 7s 4ms/step - loss: 37.8024 - val_loss: 0.2070\n",
            "Epoch 2/20\n",
            "750/750 [==============================] - 2s 3ms/step - loss: 0.1062 - val_loss: 0.0967\n",
            "Epoch 3/20\n",
            "750/750 [==============================] - 2s 3ms/step - loss: 0.0837 - val_loss: 0.0803\n",
            "Epoch 4/20\n",
            "750/750 [==============================] - 2s 3ms/step - loss: 0.0708 - val_loss: 0.0690\n",
            "Epoch 5/20\n",
            "750/750 [==============================] - 3s 4ms/step - loss: 0.0616 - val_loss: 0.0598\n",
            "Epoch 6/20\n",
            "750/750 [==============================] - 3s 4ms/step - loss: 0.0530 - val_loss: 0.0503\n",
            "Epoch 7/20\n",
            "750/750 [==============================] - 2s 3ms/step - loss: 0.0417 - val_loss: 0.0369\n",
            "Epoch 8/20\n",
            "750/750 [==============================] - 2s 3ms/step - loss: 0.0277 - val_loss: 0.0224\n",
            "Epoch 9/20\n",
            "750/750 [==============================] - 2s 3ms/step - loss: 0.0157 - val_loss: 0.0133\n",
            "Epoch 10/20\n",
            "750/750 [==============================] - 4s 5ms/step - loss: 0.0086 - val_loss: 0.0074\n",
            "Epoch 11/20\n",
            "750/750 [==============================] - 4s 5ms/step - loss: 0.0050 - val_loss: 0.0048\n",
            "Epoch 12/20\n",
            "750/750 [==============================] - 2s 3ms/step - loss: 0.0033 - val_loss: 0.0030\n",
            "Epoch 13/20\n",
            "750/750 [==============================] - 2s 3ms/step - loss: 0.0025 - val_loss: 0.0024\n",
            "Epoch 14/20\n",
            "750/750 [==============================] - 2s 3ms/step - loss: 0.0021 - val_loss: 0.0024\n",
            "Epoch 15/20\n",
            "750/750 [==============================] - 2s 3ms/step - loss: 0.0019 - val_loss: 0.0019\n",
            "Epoch 16/20\n",
            "750/750 [==============================] - 3s 4ms/step - loss: 0.0019 - val_loss: 0.0017\n",
            "Epoch 17/20\n",
            "750/750 [==============================] - 3s 4ms/step - loss: 0.0017 - val_loss: 0.0017\n",
            "Epoch 18/20\n",
            "750/750 [==============================] - 2s 3ms/step - loss: 0.0017 - val_loss: 0.0017\n",
            "Epoch 19/20\n",
            "750/750 [==============================] - 2s 3ms/step - loss: 0.0017 - val_loss: 0.0018\n",
            "Epoch 20/20\n",
            "750/750 [==============================] - 2s 3ms/step - loss: 0.0017 - val_loss: 0.0020\n",
            "469/469 [==============================] - 1s 2ms/step\n",
            "MAE: 0.03305105982652392\n",
            "MSE: 0.0019321899955311844\n",
            "RMSE: 0.0439566831725414\n",
            "R2 Score: 0.996719215759521\n"
          ]
        },
        {
          "output_type": "display_data",
          "data": {
            "text/plain": [
              "<Figure size 432x288 with 1 Axes>"
            ],
            "image/png": "[encoded data removed]"
          },
          "metadata": {
            "needs_background": "light"
          }
        }
      ]
    },
    {
      "cell_type": "markdown",
      "source": [
        "**Case 2 - Unshuffled:**"
      ],
      "metadata": {
        "id": "Je4NPQ-zrFtU"
      }
    },
    {
      "cell_type": "code",
      "source": [
        "def function(x):\n",
        "    return 0.2 * x**4 + 2 * x**3 + 0.1 * x**2 + 10\n",
        "\n",
        "X = np.random.uniform(-1, 1, size=(30000,))\n",
        "y = function(X)\n",
        "\n",
        "X_train, X_test, y_train, y_test = train_test_split(X, y, test_size=0.5, shuffle=False, random_state=42)\n",
        "X_train, X_val, y_train, y_val = train_test_split(X_train, y_train, test_size=0.4, shuffle=False, random_state=42)\n",
        "\n",
        "model4 = tf.keras.Sequential([\n",
        "    tf.keras.layers.Dense(units=24, activation='relu', input_shape=(1,)),\n",
        "    tf.keras.layers.Dense(units=1)\n",
        "])\n",
        "\n",
        "model4.compile(optimizer='adam', loss='mse')\n",
        "\n",
        "history = model4.fit(X_train, y_train, epochs=20, batch_size=12, validation_data=(X_val, y_val))\n",
        "\n",
        "y_pred = model4.predict(X_test)\n",
        "mae = mean_absolute_error(y_test, y_pred)\n",
        "mse = mean_squared_error(y_test, y_pred)\n",
        "rmse = np.sqrt(mse)\n",
        "r2 = r2_score(y_test, y_pred)\n",
        "\n",
        "print(\"MAE:\", mae)\n",
        "print(\"MSE:\", mse)\n",
        "print(\"RMSE:\", rmse)\n",
        "print(\"R2 Score:\", r2)\n",
        "\n",
        "plt.scatter(X_test, y_test, color='blue', label='Actual Data')\n",
        "plt.scatter(X_test, y_pred, color='red', label='Predicted Data')\n",
        "plt.legend()\n",
        "plt.show()"
      ],
      "metadata": {
        "id": "qN7ZaGQtuFCW",
        "outputId": "b2b40a43-ba81-41aa-e83d-ef63e36def37",
        "colab": {
          "base_uri": "https://localhost:8080/",
          "height": 1000
        }
      },
      "execution_count": null,
      "outputs": [
        {
          "output_type": "stream",
          "name": "stdout",
          "text": [
            "Epoch 1/20\n",
            "750/750 [==============================] - 3s 3ms/step - loss: 44.6226 - val_loss: 0.9176\n",
            "Epoch 2/20\n",
            "750/750 [==============================] - 2s 3ms/step - loss: 0.1626 - val_loss: 0.1053\n",
            "Epoch 3/20\n",
            "750/750 [==============================] - 3s 4ms/step - loss: 0.0999 - val_loss: 0.1005\n",
            "Epoch 4/20\n",
            "750/750 [==============================] - 3s 4ms/step - loss: 0.0957 - val_loss: 0.0974\n",
            "Epoch 5/20\n",
            "750/750 [==============================] - 3s 3ms/step - loss: 0.0932 - val_loss: 0.0954\n",
            "Epoch 6/20\n",
            "750/750 [==============================] - 3s 4ms/step - loss: 0.0921 - val_loss: 0.0950\n",
            "Epoch 7/20\n",
            "750/750 [==============================] - 3s 4ms/step - loss: 0.0914 - val_loss: 0.0940\n",
            "Epoch 8/20\n",
            "750/750 [==============================] - 2s 3ms/step - loss: 0.0903 - val_loss: 0.0926\n",
            "Epoch 9/20\n",
            "750/750 [==============================] - 3s 4ms/step - loss: 0.0890 - val_loss: 0.0921\n",
            "Epoch 10/20\n",
            "750/750 [==============================] - 3s 3ms/step - loss: 0.0875 - val_loss: 0.0910\n",
            "Epoch 11/20\n",
            "750/750 [==============================] - 2s 3ms/step - loss: 0.0868 - val_loss: 0.0922\n",
            "Epoch 12/20\n",
            "750/750 [==============================] - 2s 3ms/step - loss: 0.0861 - val_loss: 0.0896\n",
            "Epoch 13/20\n",
            "750/750 [==============================] - 2s 3ms/step - loss: 0.0854 - val_loss: 0.0880\n",
            "Epoch 14/20\n",
            "750/750 [==============================] - 2s 3ms/step - loss: 0.0852 - val_loss: 0.0892\n",
            "Epoch 15/20\n",
            "750/750 [==============================] - 4s 5ms/step - loss: 0.0847 - val_loss: 0.0882\n",
            "Epoch 16/20\n",
            "750/750 [==============================] - 2s 3ms/step - loss: 0.0851 - val_loss: 0.0879\n",
            "Epoch 17/20\n",
            "750/750 [==============================] - 2s 3ms/step - loss: 0.0852 - val_loss: 0.0905\n",
            "Epoch 18/20\n",
            "750/750 [==============================] - 3s 4ms/step - loss: 0.0848 - val_loss: 0.0883\n",
            "Epoch 19/20\n",
            "750/750 [==============================] - 3s 4ms/step - loss: 0.0848 - val_loss: 0.0926\n",
            "Epoch 20/20\n",
            "750/750 [==============================] - 3s 5ms/step - loss: 0.0850 - val_loss: 0.0881\n",
            "469/469 [==============================] - 1s 2ms/step\n",
            "MAE: 0.21886483113092672\n",
            "MSE: 0.0866380948072242\n",
            "RMSE: 0.29434349798700193\n",
            "R2 Score: 0.8484448114342384\n"
          ]
        },
        {
          "output_type": "display_data",
          "data": {
            "text/plain": [
              "<Figure size 432x288 with 1 Axes>"
            ],
            "image/png": "[encoded data removed]"
          },
          "metadata": {
            "needs_background": "light"
          }
        }
      ]
    },
    {
      "cell_type": "markdown",
      "source": [
        "**Case 3 - Shuffled:**"
      ],
      "metadata": {
        "id": "jPrPNXSTvQOg"
      }
    },
    {
      "cell_type": "code",
      "source": [
        "def function(x):\n",
        "    return 0.2 * x**4 + 2 * x**3 + 0.1 * x**2 + 10\n",
        "\n",
        "X = np.random.uniform(-1, 1, size=(30000,))\n",
        "y = function(X)\n",
        "\n",
        "X_train, X_test, y_train, y_test = train_test_split(X, y, test_size=0.5, random_state=42)\n",
        "X_train, X_val, y_train, y_val = train_test_split(X_train, y_train, test_size=0.4, random_state=42)\n",
        "\n",
        "model = tf.keras.Sequential([\n",
        "    tf.keras.layers.Dense(12, activation='tanh', input_shape=(1,)),\n",
        "    tf.keras.layers.Dense(8, activation='tanh'),\n",
        "    tf.keras.layers.Dense(4, activation='tanh'),\n",
        "    tf.keras.layers.Dense(1)\n",
        "])\n",
        "\n",
        "model.compile(optimizer='adam', loss='mse')\n",
        "\n",
        "history = model.fit(X_train, y_train, epochs=20, batch_size=12, validation_data=(X_val, y_val))\n",
        "\n",
        "y_pred = model.predict(X_test)\n",
        "mae = mean_absolute_error(y_test, y_pred)\n",
        "mse = mean_squared_error(y_test, y_pred)\n",
        "rmse = np.sqrt(mse)\n",
        "r2 = r2_score(y_test, y_pred)\n",
        "\n",
        "print(\"MAE:\", mae)\n",
        "print(\"MSE:\", mse)\n",
        "print(\"RMSE:\", rmse)\n",
        "print(\"R2 Score:\", r2)\n",
        "\n",
        "plt.scatter(X_test, y_test, color='blue', label='Actual Data')\n",
        "plt.scatter(X_test, y_pred, color='red', label='Predicted Data')\n",
        "plt.legend()\n",
        "plt.show()"
      ],
      "metadata": {
        "id": "3ZPxYF4Nvicp",
        "outputId": "73708043-c39f-4eaf-fdd2-cc91537ae851",
        "colab": {
          "base_uri": "https://localhost:8080/",
          "height": 1000
        }
      },
      "execution_count": null,
      "outputs": [
        {
          "output_type": "stream",
          "name": "stdout",
          "text": [
            "Epoch 1/20\n",
            "750/750 [==============================] - 6s 5ms/step - loss: 37.2688 - val_loss: 14.7833\n",
            "Epoch 2/20\n",
            "750/750 [==============================] - 2s 3ms/step - loss: 7.4073 - val_loss: 2.9067\n",
            "Epoch 3/20\n",
            "750/750 [==============================] - 2s 3ms/step - loss: 1.4396 - val_loss: 0.7685\n",
            "Epoch 4/20\n",
            "750/750 [==============================] - 3s 4ms/step - loss: 0.6215 - val_loss: 0.5942\n",
            "Epoch 5/20\n",
            "750/750 [==============================] - 4s 5ms/step - loss: 0.3634 - val_loss: 0.2762\n",
            "Epoch 6/20\n",
            "750/750 [==============================] - 2s 3ms/step - loss: 0.2242 - val_loss: 0.2006\n",
            "Epoch 7/20\n",
            "750/750 [==============================] - 3s 4ms/step - loss: 0.1545 - val_loss: 0.1123\n",
            "Epoch 8/20\n",
            "750/750 [==============================] - 3s 4ms/step - loss: 0.0612 - val_loss: 0.0354\n",
            "Epoch 9/20\n",
            "750/750 [==============================] - 3s 4ms/step - loss: 0.0200 - val_loss: 0.0126\n",
            "Epoch 10/20\n",
            "750/750 [==============================] - 3s 4ms/step - loss: 0.0077 - val_loss: 0.0055\n",
            "Epoch 11/20\n",
            "750/750 [==============================] - 2s 3ms/step - loss: 0.0039 - val_loss: 0.0035\n",
            "Epoch 12/20\n",
            "750/750 [==============================] - 3s 3ms/step - loss: 0.0025 - val_loss: 0.0021\n",
            "Epoch 13/20\n",
            "750/750 [==============================] - 4s 5ms/step - loss: 0.0018 - val_loss: 0.0016\n",
            "Epoch 14/20\n",
            "750/750 [==============================] - 4s 5ms/step - loss: 0.0014 - val_loss: 0.0011\n",
            "Epoch 15/20\n",
            "750/750 [==============================] - 3s 3ms/step - loss: 0.0010 - val_loss: 7.9173e-04\n",
            "Epoch 16/20\n",
            "750/750 [==============================] - 2s 3ms/step - loss: 8.1120e-04 - val_loss: 8.0787e-04\n",
            "Epoch 17/20\n",
            "750/750 [==============================] - 3s 4ms/step - loss: 7.2551e-04 - val_loss: 5.0709e-04\n",
            "Epoch 18/20\n",
            "750/750 [==============================] - 2s 3ms/step - loss: 5.6415e-04 - val_loss: 4.0576e-04\n",
            "Epoch 19/20\n",
            "750/750 [==============================] - 3s 5ms/step - loss: 5.0808e-04 - val_loss: 5.3761e-04\n",
            "Epoch 20/20\n",
            "750/750 [==============================] - 3s 3ms/step - loss: 5.1016e-04 - val_loss: 6.9042e-04\n",
            "469/469 [==============================] - 1s 2ms/step\n",
            "MAE: 0.02041223406039813\n",
            "MSE: 0.0006775131059450471\n",
            "RMSE: 0.026029081926665164\n",
            "R2 Score: 0.998810280451117\n"
          ]
        },
        {
          "output_type": "display_data",
          "data": {
            "text/plain": [
              "<Figure size 432x288 with 1 Axes>"
            ],
            "image/png": "[encoded data removed]"
          },
          "metadata": {
            "needs_background": "light"
          }
        }
      ]
    },
    {
      "cell_type": "markdown",
      "source": [
        "**Case 3 - Unshuffled:**"
      ],
      "metadata": {
        "id": "WFtWAc5pvQxF"
      }
    },
    {
      "cell_type": "code",
      "source": [
        "def function(x):\n",
        "    return 0.2 * x**4 + 2 * x**3 + 0.1 * x**2 + 10\n",
        "\n",
        "X = np.random.uniform(-1, 1, size=(30000,))\n",
        "y = function(X)\n",
        "\n",
        "X_train, X_test, y_train, y_test = train_test_split(X, y, test_size=0.5, shuffle=False, random_state=42)\n",
        "X_train, X_val, y_train, y_val = train_test_split(X_train, y_train, test_size=0.4, shuffle=False, random_state=42)\n",
        "\n",
        "model = tf.keras.Sequential([\n",
        "    tf.keras.layers.Dense(12, activation='tanh', input_shape=(1,)),\n",
        "    tf.keras.layers.Dense(8, activation='tanh'),\n",
        "    tf.keras.layers.Dense(4, activation='tanh'),\n",
        "    tf.keras.layers.Dense(1)\n",
        "])\n",
        "\n",
        "model.compile(optimizer='adam', loss='mse')\n",
        "\n",
        "history = model.fit(X_train, y_train, epochs=20, batch_size=12, validation_data=(X_val, y_val))\n",
        "\n",
        "y_pred = model.predict(X_test)\n",
        "mae = mean_absolute_error(y_test, y_pred)\n",
        "mse = mean_squared_error(y_test, y_pred)\n",
        "rmse = np.sqrt(mse)\n",
        "r2 = r2_score(y_test, y_pred)\n",
        "\n",
        "print(\"MAE:\", mae)\n",
        "print(\"MSE:\", mse)\n",
        "print(\"RMSE:\", rmse)\n",
        "print(\"R2 Score:\", r2)\n",
        "\n",
        "plt.scatter(X_test, y_test, color='blue', label='Actual Data')\n",
        "plt.scatter(X_test, y_pred, color='red', label='Predicted Data')\n",
        "plt.legend()\n",
        "plt.show()"
      ],
      "metadata": {
        "id": "Yo8rJKtTv_lW",
        "outputId": "2ae089d3-9f44-4ff9-8646-de9a1c72eeda",
        "colab": {
          "base_uri": "https://localhost:8080/",
          "height": 1000
        }
      },
      "execution_count": null,
      "outputs": [
        {
          "output_type": "stream",
          "name": "stdout",
          "text": [
            "Epoch 1/20\n",
            "750/750 [==============================] - 5s 5ms/step - loss: 39.5515 - val_loss: 17.1671\n",
            "Epoch 2/20\n",
            "750/750 [==============================] - 3s 4ms/step - loss: 8.9650 - val_loss: 3.6384\n",
            "Epoch 3/20\n",
            "750/750 [==============================] - 3s 4ms/step - loss: 1.8096 - val_loss: 0.8506\n",
            "Epoch 4/20\n",
            "750/750 [==============================] - 3s 4ms/step - loss: 0.6628 - val_loss: 0.5971\n",
            "Epoch 5/20\n",
            "750/750 [==============================] - 3s 4ms/step - loss: 0.5461 - val_loss: 0.3337\n",
            "Epoch 6/20\n",
            "750/750 [==============================] - 2s 3ms/step - loss: 0.2782 - val_loss: 0.2333\n",
            "Epoch 7/20\n",
            "750/750 [==============================] - 3s 4ms/step - loss: 0.2019 - val_loss: 0.1818\n",
            "Epoch 8/20\n",
            "750/750 [==============================] - 2s 3ms/step - loss: 0.1666 - val_loss: 0.1561\n",
            "Epoch 9/20\n",
            "750/750 [==============================] - 3s 4ms/step - loss: 0.1472 - val_loss: 0.1404\n",
            "Epoch 10/20\n",
            "750/750 [==============================] - 4s 5ms/step - loss: 0.1322 - val_loss: 0.1228\n",
            "Epoch 11/20\n",
            "750/750 [==============================] - 3s 4ms/step - loss: 0.0988 - val_loss: 0.0567\n",
            "Epoch 12/20\n",
            "750/750 [==============================] - 3s 4ms/step - loss: 0.0338 - val_loss: 0.0209\n",
            "Epoch 13/20\n",
            "750/750 [==============================] - 3s 5ms/step - loss: 0.0149 - val_loss: 0.0120\n",
            "Epoch 14/20\n",
            "750/750 [==============================] - 4s 5ms/step - loss: 0.0090 - val_loss: 0.0078\n",
            "Epoch 15/20\n",
            "750/750 [==============================] - 3s 4ms/step - loss: 0.0063 - val_loss: 0.0049\n",
            "Epoch 16/20\n",
            "750/750 [==============================] - 3s 4ms/step - loss: 0.0045 - val_loss: 0.0034\n",
            "Epoch 17/20\n",
            "750/750 [==============================] - 3s 4ms/step - loss: 0.0031 - val_loss: 0.0029\n",
            "Epoch 18/20\n",
            "750/750 [==============================] - 4s 5ms/step - loss: 0.0023 - val_loss: 0.0016\n",
            "Epoch 19/20\n",
            "750/750 [==============================] - 3s 4ms/step - loss: 0.0016 - val_loss: 0.0013\n",
            "Epoch 20/20\n",
            "750/750 [==============================] - 3s 4ms/step - loss: 0.0011 - val_loss: 8.0541e-04\n",
            "469/469 [==============================] - 1s 2ms/step\n",
            "MAE: 0.018051593896858124\n",
            "MSE: 0.0007498129135932105\n",
            "RMSE: 0.02738271194738042\n",
            "R2 Score: 0.9986913428604338\n"
          ]
        },
        {
          "output_type": "display_data",
          "data": {
            "text/plain": [
              "<Figure size 432x288 with 1 Axes>"
            ],
            "image/png": "[encoded data removed]"
          },
          "metadata": {
            "needs_background": "light"
          }
        }
      ]
    },
    {
      "cell_type": "markdown",
      "source": [
        "**Case 4 - Shuffled:**"
      ],
      "metadata": {
        "id": "9iRXKBovwT5g"
      }
    },
    {
      "cell_type": "code",
      "source": [
        "x = np.linspace(-1, 1, 30000)\n",
        "y = 0.2 * x**4 + 2 * x**3 + 0.1 * x**2 + 10\n",
        "data = np.column_stack((x, y))\n",
        "\n",
        "np.random.shuffle(data)\n",
        "\n",
        "train_data, test_data = train_test_split(data, test_size=0.5, shuffle=False)\n",
        "train_data, val_data = train_test_split(train_data, test_size=0.4, shuffle=False)\n",
        "\n",
        "x_scaler = MinMaxScaler()\n",
        "y_scaler = MinMaxScaler()\n",
        "train_data[:, 0:1] = x_scaler.fit_transform(train_data[:, 0:1])\n",
        "train_data[:, 1:2] = y_scaler.fit_transform(train_data[:, 1:2])\n",
        "val_data[:, 0:1] = x_scaler.transform(val_data[:, 0:1])\n",
        "val_data[:, 1:2] = y_scaler.transform(val_data[:, 1:2])\n",
        "test_data[:, 0:1] = x_scaler.transform(test_data[:, 0:1])\n",
        "test_data[:, 1:2] = y_scaler.transform(test_data[:, 1:2])\n",
        "\n",
        "model = tf.keras.Sequential([\n",
        "    tf.keras.layers.Dense(12, activation='relu', input_shape=(1,)),\n",
        "    tf.keras.layers.Dense(8, activation='relu'),\n",
        "    tf.keras.layers.Dense(4, activation='relu'),\n",
        "    tf.keras.layers.Dense(1)\n",
        "])\n",
        "\n",
        "model.compile(loss='mse', optimizer='adam')\n",
        "\n",
        "history = model.fit(train_data[:, 0:1], train_data[:, 1:2], epochs=20, batch_size=12, validation_data=(val_data[:, 0:1], val_data[:, 1:2]))\n",
        "\n",
        "y_pred = y_scaler.inverse_transform(model.predict(test_data[:, 0:1]))\n",
        "\n",
        "mae = mean_absolute_error(test_data[:, 1:2], y_pred)\n",
        "mse = mean_squared_error(test_data[:, 1:2], y_pred)\n",
        "rmse = np.sqrt(mse)\n",
        "r2 = r2_score(test_data[:, 1:2], y_pred)\n",
        "\n",
        "plt.scatter(test_data[:, 0], test_data[:, 1], label='Actual')\n",
        "plt.scatter(test_data[:, 0], y_pred, label='Predicted')\n",
        "plt.legend()\n",
        "plt.show()\n",
        "\n",
        "print('MAE:', mae)\n",
        "print('MSE:', mse)\n",
        "print('RMSE:', rmse)\n",
        "print('R2 Score:', r2)"
      ],
      "metadata": {
        "id": "65extwsQwk2r",
        "outputId": "32b5cd6f-a40e-41aa-bf0d-af9030473ad2",
        "colab": {
          "base_uri": "https://localhost:8080/",
          "height": 1000
        }
      },
      "execution_count": null,
      "outputs": [
        {
          "output_type": "stream",
          "name": "stdout",
          "text": [
            "Epoch 1/20\n",
            "750/750 [==============================] - 4s 5ms/step - loss: 0.0119 - val_loss: 0.0063\n",
            "Epoch 2/20\n",
            "750/750 [==============================] - 3s 4ms/step - loss: 0.0062 - val_loss: 0.0063\n",
            "Epoch 3/20\n",
            "750/750 [==============================] - 2s 3ms/step - loss: 0.0062 - val_loss: 0.0063\n",
            "Epoch 4/20\n",
            "750/750 [==============================] - 2s 3ms/step - loss: 0.0062 - val_loss: 0.0065\n",
            "Epoch 5/20\n",
            "750/750 [==============================] - 2s 3ms/step - loss: 0.0063 - val_loss: 0.0063\n",
            "Epoch 6/20\n",
            "750/750 [==============================] - 3s 4ms/step - loss: 0.0063 - val_loss: 0.0063\n",
            "Epoch 7/20\n",
            "750/750 [==============================] - 3s 4ms/step - loss: 0.0062 - val_loss: 0.0063\n",
            "Epoch 8/20\n",
            "750/750 [==============================] - 2s 3ms/step - loss: 0.0062 - val_loss: 0.0063\n",
            "Epoch 9/20\n",
            "750/750 [==============================] - 2s 3ms/step - loss: 0.0062 - val_loss: 0.0064\n",
            "Epoch 10/20\n",
            "750/750 [==============================] - 2s 3ms/step - loss: 0.0063 - val_loss: 0.0063\n",
            "Epoch 11/20\n",
            "750/750 [==============================] - 3s 4ms/step - loss: 0.0062 - val_loss: 0.0063\n",
            "Epoch 12/20\n",
            "750/750 [==============================] - 3s 4ms/step - loss: 0.0062 - val_loss: 0.0063\n",
            "Epoch 13/20\n",
            "750/750 [==============================] - 2s 3ms/step - loss: 0.0062 - val_loss: 0.0063\n",
            "Epoch 14/20\n",
            "750/750 [==============================] - 4s 5ms/step - loss: 0.0062 - val_loss: 0.0063\n",
            "Epoch 15/20\n",
            "750/750 [==============================] - 8s 11ms/step - loss: 0.0062 - val_loss: 0.0063\n",
            "Epoch 16/20\n",
            "750/750 [==============================] - 5s 7ms/step - loss: 0.0063 - val_loss: 0.0063\n",
            "Epoch 17/20\n",
            "750/750 [==============================] - 3s 4ms/step - loss: 0.0062 - val_loss: 0.0063\n",
            "Epoch 18/20\n",
            "750/750 [==============================] - 3s 4ms/step - loss: 0.0062 - val_loss: 0.0063\n",
            "Epoch 19/20\n",
            "750/750 [==============================] - 4s 6ms/step - loss: 0.0062 - val_loss: 0.0065\n",
            "Epoch 20/20\n",
            "750/750 [==============================] - 4s 6ms/step - loss: 0.0062 - val_loss: 0.0064\n",
            "469/469 [==============================] - 1s 3ms/step\n"
          ]
        },
        {
          "output_type": "display_data",
          "data": {
            "text/plain": [
              "<Figure size 432x288 with 1 Axes>"
            ],
            "image/png": "[encoded data removed]"
          },
          "metadata": {
            "needs_background": "light"
          }
        },
        {
          "output_type": "stream",
          "name": "stdout",
          "text": [
            "MAE: 9.654655473684429\n",
            "MSE: 93.52642401101937\n",
            "RMSE: 9.670906059466164\n",
            "R2 Score: -2580.4641922806245\n"
          ]
        }
      ]
    },
    {
      "cell_type": "markdown",
      "source": [
        "**Case 4 - Unshuffled:**"
      ],
      "metadata": {
        "id": "5lEw-YlUwPf9"
      }
    },
    {
      "cell_type": "code",
      "source": [
        "def func(x):\n",
        "    return 0.2*x**4 + 2*x**3 + 0.1*x**2 + 10\n",
        "\n",
        "x = np.linspace(-1, 1, 30000)\n",
        "y = func(x)\n",
        "\n",
        "x_train, x_val_test, y_train, y_val_test = train_test_split(x, y, test_size=0.5, shuffle=False)\n",
        "x_val, x_test, y_val, y_test = train_test_split(x_val_test, y_val_test, test_size=0.4, shuffle=False)\n",
        "\n",
        "scaler_x = StandardScaler()\n",
        "x_train = scaler_x.fit_transform(x_train.reshape(-1, 1))\n",
        "x_val = scaler_x.transform(x_val.reshape(-1, 1))\n",
        "x_test = scaler_x.transform(x_test.reshape(-1, 1))\n",
        "\n",
        "scaler_y = StandardScaler()\n",
        "y_train = scaler_y.fit_transform(y_train.reshape(-1, 1))\n",
        "y_val = scaler_y.transform(y_val.reshape(-1, 1))\n",
        "y_test = scaler_y.transform(y_test.reshape(-1, 1))\n",
        "\n",
        "model = tf.keras.Sequential([\n",
        "    tf.keras.layers.Dense(12, activation='relu', input_shape=(1,)),\n",
        "    tf.keras.layers.Dense(8, activation='relu'),\n",
        "    tf.keras.layers.Dense(4, activation='relu'),\n",
        "    tf.keras.layers.Dense(1)\n",
        "])\n",
        "\n",
        "model.compile(optimizer='adam', loss='mean_squared_error')\n",
        "\n",
        "history = model.fit(x_train, y_train, batch_size=12, epochs=20, validation_data=(x_val, y_val))\n",
        "\n",
        "y_pred = model.predict(x_test)\n",
        "mae = mean_absolute_error(y_test, y_pred)\n",
        "mse = mean_squared_error(y_test, y_pred)\n",
        "rmse = np.sqrt(mse)\n",
        "r2 = r2_score(y_test, y_pred)\n",
        "\n",
        "x_test = scaler_x.inverse_transform(x_test)\n",
        "y_test = scaler_y.inverse_transform(y_test)\n",
        "y_pred = scaler_y.inverse_transform(y_pred)\n",
        "\n",
        "plt.scatter(x_test, y_test, color='blue')\n",
        "plt.plot(x_test, y_pred, color='red')\n",
        "plt.title('Actual vs Predicted')\n",
        "plt.xlabel('x')\n",
        "plt.ylabel('y')\n",
        "plt.show()\n",
        "\n",
        "print('MAE:', mae)\n",
        "print('MSE:', mse)\n",
        "print('RMSE:', rmse)\n",
        "print('R^2:', r2)"
      ],
      "metadata": {
        "id": "BGUCN8H4yOVO",
        "outputId": "3a4c57ba-375e-4a3d-9ddb-9626fc01c9d7",
        "colab": {
          "base_uri": "https://localhost:8080/",
          "height": 1000
        }
      },
      "execution_count": null,
      "outputs": [
        {
          "output_type": "stream",
          "name": "stdout",
          "text": [
            "Epoch 1/20\n",
            "1250/1250 [==============================] - 12s 6ms/step - loss: 0.1792 - val_loss: 0.0544\n",
            "Epoch 2/20\n",
            "1250/1250 [==============================] - 8s 6ms/step - loss: 1.1500e-04 - val_loss: 0.1024\n",
            "Epoch 3/20\n",
            "1250/1250 [==============================] - 12s 10ms/step - loss: 4.3019e-05 - val_loss: 0.1243\n",
            "Epoch 4/20\n",
            "1250/1250 [==============================] - 5s 4ms/step - loss: 3.7785e-05 - val_loss: 0.1369\n",
            "Epoch 5/20\n",
            "1250/1250 [==============================] - 4s 3ms/step - loss: 3.5967e-05 - val_loss: 0.1362\n",
            "Epoch 6/20\n",
            "1250/1250 [==============================] - 4s 3ms/step - loss: 3.6657e-05 - val_loss: 0.1354\n",
            "Epoch 7/20\n",
            "1250/1250 [==============================] - 5s 4ms/step - loss: 3.0582e-05 - val_loss: 0.1471\n",
            "Epoch 8/20\n",
            "1250/1250 [==============================] - 4s 3ms/step - loss: 3.7417e-05 - val_loss: 0.1446\n",
            "Epoch 9/20\n",
            "1250/1250 [==============================] - 4s 3ms/step - loss: 3.8381e-05 - val_loss: 0.1403\n",
            "Epoch 10/20\n",
            "1250/1250 [==============================] - 6s 4ms/step - loss: 3.5209e-05 - val_loss: 0.1376\n",
            "Epoch 11/20\n",
            "1250/1250 [==============================] - 4s 3ms/step - loss: 2.8071e-05 - val_loss: 0.1368\n",
            "Epoch 12/20\n",
            "1250/1250 [==============================] - 4s 3ms/step - loss: 4.0615e-05 - val_loss: 0.1405\n",
            "Epoch 13/20\n",
            "1250/1250 [==============================] - 5s 4ms/step - loss: 2.4758e-05 - val_loss: 0.1414\n",
            "Epoch 14/20\n",
            "1250/1250 [==============================] - 4s 3ms/step - loss: 3.4226e-05 - val_loss: 0.1429\n",
            "Epoch 15/20\n",
            "1250/1250 [==============================] - 4s 3ms/step - loss: 2.1048e-05 - val_loss: 0.1410\n",
            "Epoch 16/20\n",
            "1250/1250 [==============================] - 5s 4ms/step - loss: 2.7731e-05 - val_loss: 0.1434\n",
            "Epoch 17/20\n",
            "1250/1250 [==============================] - 4s 3ms/step - loss: 2.2353e-05 - val_loss: 0.1413\n",
            "Epoch 18/20\n",
            "1250/1250 [==============================] - 5s 4ms/step - loss: 2.2261e-05 - val_loss: 0.1404\n",
            "Epoch 19/20\n",
            "1250/1250 [==============================] - 6s 5ms/step - loss: 2.0201e-05 - val_loss: 0.1422\n",
            "Epoch 20/20\n",
            "1250/1250 [==============================] - 4s 3ms/step - loss: 2.1739e-05 - val_loss: 0.1399\n",
            "188/188 [==============================] - 0s 2ms/step\n"
          ]
        },
        {
          "output_type": "display_data",
          "data": {
            "text/plain": [
              "<Figure size 432x288 with 1 Axes>"
            ],
            "image/png": "[encoded data removed]"
          },
          "metadata": {
            "needs_background": "light"
          }
        },
        {
          "output_type": "stream",
          "name": "stdout",
          "text": [
            "MAE: 2.5385214839808383\n",
            "MSE: 7.590710497582063\n",
            "RMSE: 2.7551244069156047\n",
            "R^2: -5.570221701792189\n"
          ]
        }
      ]
    },
    {
      "cell_type": "markdown",
      "source": [
        "**Case 5 - Shuffled:**"
      ],
      "metadata": {
        "id": "UG8VIaKjwXyw"
      }
    },
    {
      "cell_type": "code",
      "source": [
        "x = np.linspace(-1, 1, 30000)\n",
        "y = 0.2 * x**4 + 2 * x**3 + 0.1 * x**2 + 10\n",
        "data = np.column_stack((x, y))\n",
        "\n",
        "np.random.shuffle(data)\n",
        "\n",
        "train_data, test_data = train_test_split(data, test_size=0.5, shuffle=False)\n",
        "train_data, val_data = train_test_split(train_data, test_size=0.4, shuffle=False)\n",
        "\n",
        "x_scaler = MinMaxScaler()\n",
        "y_scaler = MinMaxScaler()\n",
        "train_data[:, 0:1] = x_scaler.fit_transform(train_data[:, 0:1])\n",
        "train_data[:, 1:2] = y_scaler.fit_transform(train_data[:, 1:2])\n",
        "val_data[:, 0:1] = x_scaler.transform(val_data[:, 0:1])\n",
        "val_data[:, 1:2] = y_scaler.transform(val_data[:, 1:2])\n",
        "test_data[:, 0:1] = x_scaler.transform(test_data[:, 0:1])\n",
        "test_data[:, 1:2] = y_scaler.transform(test_data[:, 1:2])\n",
        "\n",
        "model = tf.keras.Sequential([\n",
        "    tf.keras.layers.Dense(12, activation='tanh', input_shape=(1,)),\n",
        "    tf.keras.layers.Dense(8, activation='tanh'),\n",
        "    tf.keras.layers.Dense(4, activation='tanh'),\n",
        "    tf.keras.layers.Dense(1)\n",
        "])\n",
        "\n",
        "model.compile(loss='mse', optimizer='adam')\n",
        "\n",
        "history = model.fit(train_data[:, 0:1], train_data[:, 1:2], epochs=20, batch_size=12, validation_data=(val_data[:, 0:1], val_data[:, 1:2]))\n",
        "\n",
        "y_pred = y_scaler.inverse_transform(model.predict(test_data[:, 0:1]))\n",
        "\n",
        "mae = mean_absolute_error(test_data[:, 1:2], y_pred)\n",
        "mse = mean_squared_error(test_data[:, 1:2], y_pred)\n",
        "rmse = np.sqrt(mse)\n",
        "r2 = r2_score(test_data[:, 1:2], y_pred)\n",
        "\n",
        "plt.scatter(test_data[:, 0], test_data[:, 1], label='Actual')\n",
        "plt.scatter(test_data[:, 0], y_pred, label='Predicted')\n",
        "plt.legend()\n",
        "plt.show()\n",
        "\n",
        "print('MAE:', mae)\n",
        "print('MSE:', mse)\n",
        "print('RMSE:', rmse)\n",
        "print('R2 Score:', r2)"
      ],
      "metadata": {
        "id": "j6ol41yIykmv",
        "outputId": "ce4d3ff3-d314-4542-890b-35d967f83f70",
        "colab": {
          "base_uri": "https://localhost:8080/",
          "height": 1000
        }
      },
      "execution_count": null,
      "outputs": [
        {
          "output_type": "stream",
          "name": "stdout",
          "text": [
            "Epoch 1/20\n",
            "750/750 [==============================] - 4s 4ms/step - loss: 0.0071 - val_loss: 0.0068\n",
            "Epoch 2/20\n",
            "750/750 [==============================] - 3s 4ms/step - loss: 0.0065 - val_loss: 0.0074\n",
            "Epoch 3/20\n",
            "750/750 [==============================] - 3s 4ms/step - loss: 0.0062 - val_loss: 0.0059\n",
            "Epoch 4/20\n",
            "750/750 [==============================] - 2s 3ms/step - loss: 0.0050 - val_loss: 0.0025\n",
            "Epoch 5/20\n",
            "750/750 [==============================] - 2s 3ms/step - loss: 8.9328e-04 - val_loss: 5.3498e-04\n",
            "Epoch 6/20\n",
            "750/750 [==============================] - 3s 4ms/step - loss: 4.7684e-04 - val_loss: 4.1594e-04\n",
            "Epoch 7/20\n",
            "750/750 [==============================] - 3s 4ms/step - loss: 4.0938e-04 - val_loss: 3.7259e-04\n",
            "Epoch 8/20\n",
            "750/750 [==============================] - 3s 4ms/step - loss: 3.4461e-04 - val_loss: 2.5922e-04\n",
            "Epoch 9/20\n",
            "750/750 [==============================] - 3s 4ms/step - loss: 2.7487e-04 - val_loss: 2.6044e-04\n",
            "Epoch 10/20\n",
            "750/750 [==============================] - 2s 3ms/step - loss: 2.6728e-04 - val_loss: 2.0286e-04\n",
            "Epoch 11/20\n",
            "750/750 [==============================] - 4s 5ms/step - loss: 2.2596e-04 - val_loss: 2.2724e-04\n",
            "Epoch 12/20\n",
            "750/750 [==============================] - 3s 4ms/step - loss: 1.9488e-04 - val_loss: 1.5942e-04\n",
            "Epoch 13/20\n",
            "750/750 [==============================] - 2s 3ms/step - loss: 1.9540e-04 - val_loss: 2.1231e-04\n",
            "Epoch 14/20\n",
            "750/750 [==============================] - 3s 4ms/step - loss: 1.6830e-04 - val_loss: 1.3552e-04\n",
            "Epoch 15/20\n",
            "750/750 [==============================] - 3s 4ms/step - loss: 1.5140e-04 - val_loss: 2.0547e-04\n",
            "Epoch 16/20\n",
            "750/750 [==============================] - 3s 4ms/step - loss: 1.3513e-04 - val_loss: 1.9751e-04\n",
            "Epoch 17/20\n",
            "750/750 [==============================] - 3s 4ms/step - loss: 1.2519e-04 - val_loss: 9.5609e-05\n",
            "Epoch 18/20\n",
            "750/750 [==============================] - 3s 4ms/step - loss: 1.0540e-04 - val_loss: 6.7639e-05\n",
            "Epoch 19/20\n",
            "750/750 [==============================] - 2s 3ms/step - loss: 8.4020e-05 - val_loss: 8.6731e-05\n",
            "Epoch 20/20\n",
            "750/750 [==============================] - 4s 5ms/step - loss: 7.1987e-05 - val_loss: 5.4307e-05\n",
            "469/469 [==============================] - 1s 2ms/step\n"
          ]
        },
        {
          "output_type": "display_data",
          "data": {
            "text/plain": [
              "<Figure size 432x288 with 1 Axes>"
            ],
            "image/png": "[encoded data removed]"
          },
          "metadata": {
            "needs_background": "light"
          }
        },
        {
          "output_type": "stream",
          "name": "stdout",
          "text": [
            "MAE: 9.64329986095361\n",
            "MSE: 93.30848930312007\n",
            "RMSE: 9.659631944495612\n",
            "R2 Score: -2559.8464147003847\n"
          ]
        }
      ]
    },
    {
      "cell_type": "markdown",
      "source": [
        "**Case 5 - Unshuffled:**"
      ],
      "metadata": {
        "id": "yqIZHflywX9J"
      }
    },
    {
      "cell_type": "code",
      "source": [
        "def func(x):\n",
        "    return 0.2*x**4 + 2*x**3 + 0.1*x**2 + 10\n",
        "\n",
        "x = np.linspace(-1, 1, 30000)\n",
        "y = func(x)\n",
        "\n",
        "x_train, x_val_test, y_train, y_val_test = train_test_split(x, y, test_size=0.5, shuffle=False)\n",
        "x_val, x_test, y_val, y_test = train_test_split(x_val_test, y_val_test, test_size=0.4, shuffle=False)\n",
        "\n",
        "scaler_x = StandardScaler()\n",
        "x_train = scaler_x.fit_transform(x_train.reshape(-1, 1))\n",
        "x_val = scaler_x.transform(x_val.reshape(-1, 1))\n",
        "x_test = scaler_x.transform(x_test.reshape(-1, 1))\n",
        "\n",
        "scaler_y = StandardScaler()\n",
        "y_train = scaler_y.fit_transform(y_train.reshape(-1, 1))\n",
        "y_val = scaler_y.transform(y_val.reshape(-1, 1))\n",
        "y_test = scaler_y.transform(y_test.reshape(-1, 1))\n",
        "\n",
        "model = tf.keras.Sequential([\n",
        "    tf.keras.layers.Dense(12, activation='tanh', input_shape=(1,)),\n",
        "    tf.keras.layers.Dense(8, activation='tanh'),\n",
        "    tf.keras.layers.Dense(4, activation='tanh'),\n",
        "    tf.keras.layers.Dense(1)\n",
        "])\n",
        "\n",
        "model.compile(optimizer='adam', loss='mean_squared_error')\n",
        "\n",
        "history = model.fit(x_train, y_train, batch_size=12, epochs=20, validation_data=(x_val, y_val))\n",
        "\n",
        "y_pred = model.predict(x_test)\n",
        "mae = mean_absolute_error(y_test, y_pred)\n",
        "mse = mean_squared_error(y_test, y_pred)\n",
        "rmse = np.sqrt(mse)\n",
        "r2 = r2_score(y_test, y_pred)\n",
        "\n",
        "x_test = scaler_x.inverse_transform(x_test)\n",
        "y_test = scaler_y.inverse_transform(y_test)\n",
        "y_pred = scaler_y.inverse_transform(y_pred)\n",
        "\n",
        "plt.scatter(x_test, y_test, color='blue')\n",
        "plt.plot(x_test, y_pred, color='red')\n",
        "plt.title('Actual vs Predicted')\n",
        "plt.xlabel('x')\n",
        "plt.ylabel('y')\n",
        "plt.show()\n",
        "\n",
        "print('MAE:', mae)\n",
        "print('MSE:', mse)\n",
        "print('RMSE:', rmse)\n",
        "print('R^2:', r2)"
      ],
      "metadata": {
        "id": "a5q9j-zhywDX",
        "outputId": "c923c8dd-053f-4b07-faa6-b90eeab772b2",
        "colab": {
          "base_uri": "https://localhost:8080/",
          "height": 1000
        }
      },
      "execution_count": null,
      "outputs": [
        {
          "output_type": "stream",
          "name": "stdout",
          "text": [
            "Epoch 1/20\n",
            "1250/1250 [==============================] - 5s 3ms/step - loss: 0.0880 - val_loss: 0.0453\n",
            "Epoch 2/20\n",
            "1250/1250 [==============================] - 5s 4ms/step - loss: 0.0033 - val_loss: 0.0626\n",
            "Epoch 3/20\n",
            "1250/1250 [==============================] - 5s 4ms/step - loss: 6.7914e-04 - val_loss: 0.0948\n",
            "Epoch 4/20\n",
            "1250/1250 [==============================] - 4s 3ms/step - loss: 2.9337e-04 - val_loss: 0.1110\n",
            "Epoch 5/20\n",
            "1250/1250 [==============================] - 4s 4ms/step - loss: 1.8128e-04 - val_loss: 0.1239\n",
            "Epoch 6/20\n",
            "1250/1250 [==============================] - 5s 4ms/step - loss: 1.0278e-04 - val_loss: 0.1326\n",
            "Epoch 7/20\n",
            "1250/1250 [==============================] - 4s 3ms/step - loss: 5.7385e-05 - val_loss: 0.1474\n",
            "Epoch 8/20\n",
            "1250/1250 [==============================] - 4s 3ms/step - loss: 3.4386e-05 - val_loss: 0.1609\n",
            "Epoch 9/20\n",
            "1250/1250 [==============================] - 5s 4ms/step - loss: 3.1262e-05 - val_loss: 0.1641\n",
            "Epoch 10/20\n",
            "1250/1250 [==============================] - 4s 3ms/step - loss: 2.4100e-05 - val_loss: 0.1750\n",
            "Epoch 11/20\n",
            "1250/1250 [==============================] - 4s 3ms/step - loss: 2.2057e-05 - val_loss: 0.1774\n",
            "Epoch 12/20\n",
            "1250/1250 [==============================] - 7s 6ms/step - loss: 2.0462e-05 - val_loss: 0.1823\n",
            "Epoch 13/20\n",
            "1250/1250 [==============================] - 6s 5ms/step - loss: 2.5252e-05 - val_loss: 0.1806\n",
            "Epoch 14/20\n",
            "1250/1250 [==============================] - 5s 4ms/step - loss: 1.8072e-05 - val_loss: 0.1883\n",
            "Epoch 15/20\n",
            "1250/1250 [==============================] - 4s 3ms/step - loss: 2.0114e-05 - val_loss: 0.1866\n",
            "Epoch 16/20\n",
            "1250/1250 [==============================] - 4s 3ms/step - loss: 1.9753e-05 - val_loss: 0.1910\n",
            "Epoch 17/20\n",
            "1250/1250 [==============================] - 6s 5ms/step - loss: 1.7620e-05 - val_loss: 0.1898\n",
            "Epoch 18/20\n",
            "1250/1250 [==============================] - 4s 3ms/step - loss: 1.5848e-05 - val_loss: 0.1953\n",
            "Epoch 19/20\n",
            "1250/1250 [==============================] - 4s 3ms/step - loss: 1.5139e-05 - val_loss: 0.1937\n",
            "Epoch 20/20\n",
            "1250/1250 [==============================] - 6s 5ms/step - loss: 1.6802e-05 - val_loss: 0.1949\n",
            "188/188 [==============================] - 1s 2ms/step\n"
          ]
        },
        {
          "output_type": "display_data",
          "data": {
            "text/plain": [
              "<Figure size 432x288 with 1 Axes>"
            ],
            "image/png": "[encoded data removed]"
          },
          "metadata": {
            "needs_background": "light"
          }
        },
        {
          "output_type": "stream",
          "name": "stdout",
          "text": [
            "MAE: 2.688989894035681\n",
            "MSE: 8.409199570678377\n",
            "RMSE: 2.8998619916607025\n",
            "R^2: -6.278673785750622\n"
          ]
        }
      ]
    },
    {
      "cell_type": "markdown",
      "source": [
        "**Q6: XOR problem using neural network**"
      ],
      "metadata": {
        "id": "y06jJrxV07U4"
      }
    },
    {
      "cell_type": "code",
      "source": [
        "input_size = 2\n",
        "hidden_size = 2\n",
        "output_size = 1\n",
        "\n",
        "w1 = np.random.randn(input_size, hidden_size)\n",
        "b1 = np.zeros((1, hidden_size))\n",
        "w2 = np.random.randn(hidden_size, output_size)\n",
        "b2 = np.zeros((1, output_size))\n",
        "\n",
        "def relu(x):\n",
        "    return np.maximum(0, x)\n",
        "\n",
        "def sigmoid(x):\n",
        "    return 1 / (1 + np.exp(-x))\n",
        "\n",
        "def binary_crossentropy(y_true, y_pred):\n",
        "    epsilon = 1e-7\n",
        "    y_pred = np.clip(y_pred, epsilon, 1.0 - epsilon)\n",
        "    return -np.mean(y_true * np.log(y_pred) + (1 - y_true) * np.log(1 - y_pred))\n",
        "\n",
        "def train(X, y, learning_rate, num_epochs):\n",
        "    global w1, b1, w2, b2\n",
        "    for epoch in range(num_epochs):\n",
        "        hidden_layer = relu(np.dot(X, w1) + b1)\n",
        "        output_layer = sigmoid(np.dot(hidden_layer, w2) + b2)\n",
        "\n",
        "        loss = binary_crossentropy(y, output_layer)\n",
        "\n",
        "        dloss_doutput = (output_layer - y) / (output_layer * (1 - output_layer))\n",
        "        doutput_dz2 = output_layer * (1 - output_layer)\n",
        "        dz2_dhidden = w2.T\n",
        "        dhidden_dz1 = np.where(hidden_layer > 0, 1, 0)\n",
        "\n",
        "        dw2 = np.dot(hidden_layer.T, dloss_doutput * doutput_dz2)\n",
        "        db2 = np.sum(dloss_doutput * doutput_dz2, axis=0, keepdims=True)\n",
        "        dw1 = np.dot(X.T, np.dot(dloss_doutput * doutput_dz2, dz2_dhidden) * dhidden_dz1)\n",
        "        db1 = np.sum(np.dot(dloss_doutput * doutput_dz2, dz2_dhidden) * dhidden_dz1, axis=0, keepdims=True)\n",
        "\n",
        "        w2 -= learning_rate * dw2\n",
        "        b2 -= learning_rate * db2\n",
        "        w1 -= learning_rate * dw1\n",
        "        b1 -= learning_rate * db1\n",
        "\n",
        "        if epoch % 100 == 0:\n",
        "            print(f\"Epoch {epoch}: Loss = {loss:.4f}\")\n",
        "\n",
        "def predict(X):\n",
        "    hidden_layer = relu(np.dot(X, w1) + b1)\n",
        "    output_layer = sigmoid(np.dot(hidden_layer, w2) + b2)\n",
        "    return np.round(output_layer)\n",
        "\n",
        "X = np.array([[0, 0], [0, 1], [1, 0], [1, 1]])\n",
        "y = np.array([[0], [1], [1], [0]])\n",
        "\n",
        "train(X, y, learning_rate=0.1, num_epochs=1000)\n",
        "\n",
        "print(predict(np.array([[0, 0], [0, 1], [1, 0], [1,1]])))"
      ],
      "metadata": {
        "id": "DWxiZGKO06tK",
        "outputId": "5a1c85bf-c85d-4877-c1f6-a2318532045c",
        "colab": {
          "base_uri": "https://localhost:8080/"
        }
      },
      "execution_count": null,
      "outputs": [
        {
          "output_type": "stream",
          "name": "stdout",
          "text": [
            "Epoch 0: Loss = 0.7101\n",
            "Epoch 100: Loss = 0.4884\n",
            "Epoch 200: Loss = 0.4800\n",
            "Epoch 300: Loss = 0.4789\n",
            "Epoch 400: Loss = 0.4783\n",
            "Epoch 500: Loss = 0.4780\n",
            "Epoch 600: Loss = 0.4780\n",
            "Epoch 700: Loss = 0.4779\n",
            "Epoch 800: Loss = 0.4777\n",
            "Epoch 900: Loss = 0.4778\n",
            "[[0.]\n",
            " [0.]\n",
            " [1.]\n",
            " [0.]]\n"
          ]
        }
      ]
    }
  ]
}